{
 "cells": [
  {
   "cell_type": "markdown",
   "metadata": {},
   "source": [
    "# Arrivalist Data  Challenge"
   ]
  },
  {
   "cell_type": "markdown",
   "metadata": {},
   "source": [
    "Prompt:\n",
    "How can we differentiate between good users versus bad users?\n",
    "\n",
    "If we are to create a model to classify these users:\n",
    "- what kind of features ought we construct from the data? How should we explore the data? \n",
    "- Can you identify users in this data that are noisy vs clean in terms of travel? \n",
    "- What other kinds of questions can/should you ask about the data?\n",
    "\n",
    "This is an open ended problem. Please feel free to reach out if you have any questions.\n"
   ]
  },
  {
   "cell_type": "code",
   "execution_count": 1,
   "metadata": {
    "collapsed": true
   },
   "outputs": [],
   "source": [
    "import numpy as np\n",
    "import pandas as pd"
   ]
  },
  {
   "cell_type": "code",
   "execution_count": 2,
   "metadata": {
    "collapsed": true
   },
   "outputs": [],
   "source": [
    "import matplotlib.pyplot as plt\n",
    "plt.style.use('Solarize_Light2')"
   ]
  },
  {
   "cell_type": "code",
   "execution_count": 3,
   "metadata": {
    "collapsed": true
   },
   "outputs": [],
   "source": [
    "import datetime as dt"
   ]
  },
  {
   "cell_type": "code",
   "execution_count": 214,
   "metadata": {},
   "outputs": [
    {
     "data": {
      "text/plain": [
       "20"
      ]
     },
     "execution_count": 214,
     "metadata": {},
     "output_type": "execute_result"
    }
   ],
   "source": [
    "import gc\n",
    "gc.collect()"
   ]
  },
  {
   "cell_type": "code",
   "execution_count": 5,
   "metadata": {
    "collapsed": true
   },
   "outputs": [],
   "source": [
    "import geopandas as gpd\n",
    "from geopy.distance import distance\n",
    "import folium"
   ]
  },
  {
   "cell_type": "markdown",
   "metadata": {},
   "source": [
    "## Read Data"
   ]
  },
  {
   "cell_type": "code",
   "execution_count": 9,
   "metadata": {},
   "outputs": [
    {
     "name": "stderr",
     "output_type": "stream",
     "text": [
      "/storage/home/lul165/.conda/envs/llyenv/lib/python3.7/site-packages/IPython/core/interactiveshell.py:3057: DtypeWarning: Columns (10) have mixed types. Specify dtype option on import or set low_memory=False.\n",
      "  interactivity=interactivity, compiler=compiler, result=result)\n"
     ]
    }
   ],
   "source": [
    "df_travel = pd.read_csv('interview_data.csv')"
   ]
  },
  {
   "cell_type": "markdown",
   "metadata": {},
   "source": [
    "## Data Description"
   ]
  },
  {
   "cell_type": "code",
   "execution_count": 10,
   "metadata": {},
   "outputs": [
    {
     "name": "stdout",
     "output_type": "stream",
     "text": [
      "<class 'pandas.core.frame.DataFrame'>\n",
      "RangeIndex: 16125354 entries, 0 to 16125353\n",
      "Data columns (total 13 columns):\n",
      "device_id       int64\n",
      "ts              object\n",
      "ts_date         object\n",
      "ts_quarter      object\n",
      "lat             float64\n",
      "lon             float64\n",
      "geohash5        object\n",
      "country         object\n",
      "region          object\n",
      "city            object\n",
      "zip_code        object\n",
      "publisher_id    float64\n",
      "partner_id      int64\n",
      "dtypes: float64(3), int64(2), object(8)\n",
      "memory usage: 1.6+ GB\n"
     ]
    }
   ],
   "source": [
    "df_travel.info()"
   ]
  },
  {
   "cell_type": "code",
   "execution_count": 11,
   "metadata": {},
   "outputs": [
    {
     "data": {
      "text/html": [
       "<div>\n",
       "<style scoped>\n",
       "    .dataframe tbody tr th:only-of-type {\n",
       "        vertical-align: middle;\n",
       "    }\n",
       "\n",
       "    .dataframe tbody tr th {\n",
       "        vertical-align: top;\n",
       "    }\n",
       "\n",
       "    .dataframe thead th {\n",
       "        text-align: right;\n",
       "    }\n",
       "</style>\n",
       "<table border=\"1\" class=\"dataframe\">\n",
       "  <thead>\n",
       "    <tr style=\"text-align: right;\">\n",
       "      <th></th>\n",
       "      <th>device_id</th>\n",
       "      <th>lat</th>\n",
       "      <th>lon</th>\n",
       "      <th>publisher_id</th>\n",
       "      <th>partner_id</th>\n",
       "    </tr>\n",
       "  </thead>\n",
       "  <tbody>\n",
       "    <tr>\n",
       "      <th>count</th>\n",
       "      <td>1.612535e+07</td>\n",
       "      <td>1.612535e+07</td>\n",
       "      <td>1.612535e+07</td>\n",
       "      <td>8.913284e+06</td>\n",
       "      <td>1.612535e+07</td>\n",
       "    </tr>\n",
       "    <tr>\n",
       "      <th>mean</th>\n",
       "      <td>2.020161e+03</td>\n",
       "      <td>3.717414e+01</td>\n",
       "      <td>-9.263365e+01</td>\n",
       "      <td>9.674115e+17</td>\n",
       "      <td>1.686466e+00</td>\n",
       "    </tr>\n",
       "    <tr>\n",
       "      <th>std</th>\n",
       "      <td>8.408644e+03</td>\n",
       "      <td>5.339480e+00</td>\n",
       "      <td>1.862537e+01</td>\n",
       "      <td>2.393162e+18</td>\n",
       "      <td>6.741262e-01</td>\n",
       "    </tr>\n",
       "    <tr>\n",
       "      <th>min</th>\n",
       "      <td>1.000000e+00</td>\n",
       "      <td>-3.807455e+01</td>\n",
       "      <td>-1.597172e+02</td>\n",
       "      <td>1.003000e+03</td>\n",
       "      <td>1.000000e+00</td>\n",
       "    </tr>\n",
       "    <tr>\n",
       "      <th>25%</th>\n",
       "      <td>2.050000e+02</td>\n",
       "      <td>3.397732e+01</td>\n",
       "      <td>-9.848565e+01</td>\n",
       "      <td>1.156000e+03</td>\n",
       "      <td>1.000000e+00</td>\n",
       "    </tr>\n",
       "    <tr>\n",
       "      <th>50%</th>\n",
       "      <td>3.720000e+02</td>\n",
       "      <td>3.796560e+01</td>\n",
       "      <td>-8.678347e+01</td>\n",
       "      <td>5.009000e+03</td>\n",
       "      <td>2.000000e+00</td>\n",
       "    </tr>\n",
       "    <tr>\n",
       "      <th>75%</th>\n",
       "      <td>8.790000e+02</td>\n",
       "      <td>4.036284e+01</td>\n",
       "      <td>-8.024539e+01</td>\n",
       "      <td>5.009000e+03</td>\n",
       "      <td>2.000000e+00</td>\n",
       "    </tr>\n",
       "    <tr>\n",
       "      <th>max</th>\n",
       "      <td>6.847600e+04</td>\n",
       "      <td>6.507238e+01</td>\n",
       "      <td>1.512167e+02</td>\n",
       "      <td>9.153270e+18</td>\n",
       "      <td>3.000000e+00</td>\n",
       "    </tr>\n",
       "  </tbody>\n",
       "</table>\n",
       "</div>"
      ],
      "text/plain": [
       "          device_id           lat           lon  publisher_id    partner_id\n",
       "count  1.612535e+07  1.612535e+07  1.612535e+07  8.913284e+06  1.612535e+07\n",
       "mean   2.020161e+03  3.717414e+01 -9.263365e+01  9.674115e+17  1.686466e+00\n",
       "std    8.408644e+03  5.339480e+00  1.862537e+01  2.393162e+18  6.741262e-01\n",
       "min    1.000000e+00 -3.807455e+01 -1.597172e+02  1.003000e+03  1.000000e+00\n",
       "25%    2.050000e+02  3.397732e+01 -9.848565e+01  1.156000e+03  1.000000e+00\n",
       "50%    3.720000e+02  3.796560e+01 -8.678347e+01  5.009000e+03  2.000000e+00\n",
       "75%    8.790000e+02  4.036284e+01 -8.024539e+01  5.009000e+03  2.000000e+00\n",
       "max    6.847600e+04  6.507238e+01  1.512167e+02  9.153270e+18  3.000000e+00"
      ]
     },
     "execution_count": 11,
     "metadata": {},
     "output_type": "execute_result"
    }
   ],
   "source": [
    "df_travel.describe()"
   ]
  },
  {
   "cell_type": "code",
   "execution_count": 12,
   "metadata": {},
   "outputs": [
    {
     "data": {
      "text/plain": [
       "(1089,)"
      ]
     },
     "execution_count": 12,
     "metadata": {},
     "output_type": "execute_result"
    }
   ],
   "source": [
    "df_travel['device_id'].unique().shape"
   ]
  },
  {
   "cell_type": "markdown",
   "metadata": {},
   "source": [
    "Total User number: 1089"
   ]
  },
  {
   "cell_type": "code",
   "execution_count": 13,
   "metadata": {},
   "outputs": [
    {
     "data": {
      "text/plain": [
       "device_id       False\n",
       "ts              False\n",
       "ts_date         False\n",
       "ts_quarter      False\n",
       "lat             False\n",
       "lon             False\n",
       "geohash5        False\n",
       "country         False\n",
       "region          False\n",
       "city            False\n",
       "zip_code        False\n",
       "publisher_id     True\n",
       "partner_id      False\n",
       "dtype: bool"
      ]
     },
     "execution_count": 13,
     "metadata": {},
     "output_type": "execute_result"
    }
   ],
   "source": [
    "df_travel.isna().any()"
   ]
  },
  {
   "cell_type": "markdown",
   "metadata": {},
   "source": [
    "## Small Sample Exploration\n",
    "- Take Several Users"
   ]
  },
  {
   "cell_type": "code",
   "execution_count": 14,
   "metadata": {
    "collapsed": true
   },
   "outputs": [],
   "source": [
    "df_sp = df_travel[df_travel['device_id']<35]"
   ]
  },
  {
   "cell_type": "code",
   "execution_count": 15,
   "metadata": {
    "collapsed": true
   },
   "outputs": [],
   "source": [
    "## Convert string to timestamp\n",
    "datetime = df_sp['ts'].apply(lambda x:dt.datetime.strptime(x,'%Y-%m-%d %X'))\n",
    "datetime = datetime.rename('dt')\n",
    "\n",
    "df_sp = pd.concat([df_sp,datetime],axis=1)"
   ]
  },
  {
   "cell_type": "code",
   "execution_count": 16,
   "metadata": {},
   "outputs": [
    {
     "data": {
      "text/plain": [
       "array([ 1,  2,  6,  8, 11, 13, 18, 19, 20, 23, 24, 25, 26, 27, 28, 29, 30,\n",
       "       31, 33])"
      ]
     },
     "execution_count": 16,
     "metadata": {},
     "output_type": "execute_result"
    }
   ],
   "source": [
    "## Users included in the sample\n",
    "df_sp['device_id'].unique()"
   ]
  },
  {
   "cell_type": "code",
   "execution_count": 17,
   "metadata": {},
   "outputs": [
    {
     "data": {
      "text/plain": [
       "array([           nan, 1.15400000e+03, 1.15600000e+03, 1.14500000e+03,\n",
       "       1.00300000e+03, 6.53079112e+18, 1.42934202e+18, 1.85157059e+17,\n",
       "       5.25626457e+18, 4.12621294e+18, 8.99631425e+18, 3.49038444e+17,\n",
       "       5.95568977e+17, 4.81777359e+18, 2.21523270e+17, 4.66213289e+18,\n",
       "       2.38449931e+17, 8.43738976e+17, 8.11870489e+18, 3.25100000e+03,\n",
       "       1.22540000e+04])"
      ]
     },
     "execution_count": 17,
     "metadata": {},
     "output_type": "execute_result"
    }
   ],
   "source": [
    "## Some user has multiple publisher ID\n",
    "df_sp[df_sp['device_id']==20]['publisher_id'].unique()"
   ]
  },
  {
   "cell_type": "markdown",
   "metadata": {},
   "source": [
    "### Time-series Resampling"
   ]
  },
  {
   "cell_type": "code",
   "execution_count": 18,
   "metadata": {},
   "outputs": [
    {
     "data": {
      "text/html": [
       "<div>\n",
       "<style scoped>\n",
       "    .dataframe tbody tr th:only-of-type {\n",
       "        vertical-align: middle;\n",
       "    }\n",
       "\n",
       "    .dataframe tbody tr th {\n",
       "        vertical-align: top;\n",
       "    }\n",
       "\n",
       "    .dataframe thead th {\n",
       "        text-align: right;\n",
       "    }\n",
       "</style>\n",
       "<table border=\"1\" class=\"dataframe\">\n",
       "  <thead>\n",
       "    <tr style=\"text-align: right;\">\n",
       "      <th></th>\n",
       "      <th>device_id</th>\n",
       "      <th>lat</th>\n",
       "      <th>lon</th>\n",
       "      <th>publisher_id</th>\n",
       "      <th>partner_id</th>\n",
       "    </tr>\n",
       "  </thead>\n",
       "  <tbody>\n",
       "    <tr>\n",
       "      <th>count</th>\n",
       "      <td>136927.000000</td>\n",
       "      <td>136927.000000</td>\n",
       "      <td>136927.000000</td>\n",
       "      <td>1.022340e+05</td>\n",
       "      <td>136927.000000</td>\n",
       "    </tr>\n",
       "    <tr>\n",
       "      <th>mean</th>\n",
       "      <td>21.603022</td>\n",
       "      <td>40.349030</td>\n",
       "      <td>-96.621193</td>\n",
       "      <td>1.152882e+18</td>\n",
       "      <td>1.708056</td>\n",
       "    </tr>\n",
       "    <tr>\n",
       "      <th>std</th>\n",
       "      <td>9.076939</td>\n",
       "      <td>5.408635</td>\n",
       "      <td>16.375491</td>\n",
       "      <td>2.634618e+18</td>\n",
       "      <td>0.667808</td>\n",
       "    </tr>\n",
       "    <tr>\n",
       "      <th>min</th>\n",
       "      <td>1.000000</td>\n",
       "      <td>18.022799</td>\n",
       "      <td>-159.714760</td>\n",
       "      <td>1.003000e+03</td>\n",
       "      <td>1.000000</td>\n",
       "    </tr>\n",
       "    <tr>\n",
       "      <th>25%</th>\n",
       "      <td>19.000000</td>\n",
       "      <td>40.016790</td>\n",
       "      <td>-105.096820</td>\n",
       "      <td>1.172000e+03</td>\n",
       "      <td>1.000000</td>\n",
       "    </tr>\n",
       "    <tr>\n",
       "      <th>50%</th>\n",
       "      <td>23.000000</td>\n",
       "      <td>40.937790</td>\n",
       "      <td>-97.263480</td>\n",
       "      <td>5.009000e+03</td>\n",
       "      <td>2.000000</td>\n",
       "    </tr>\n",
       "    <tr>\n",
       "      <th>75%</th>\n",
       "      <td>31.000000</td>\n",
       "      <td>42.634204</td>\n",
       "      <td>-80.866290</td>\n",
       "      <td>5.009000e+03</td>\n",
       "      <td>2.000000</td>\n",
       "    </tr>\n",
       "    <tr>\n",
       "      <th>max</th>\n",
       "      <td>33.000000</td>\n",
       "      <td>47.978210</td>\n",
       "      <td>11.210057</td>\n",
       "      <td>8.996314e+18</td>\n",
       "      <td>3.000000</td>\n",
       "    </tr>\n",
       "  </tbody>\n",
       "</table>\n",
       "</div>"
      ],
      "text/plain": [
       "           device_id            lat            lon  publisher_id  \\\n",
       "count  136927.000000  136927.000000  136927.000000  1.022340e+05   \n",
       "mean       21.603022      40.349030     -96.621193  1.152882e+18   \n",
       "std         9.076939       5.408635      16.375491  2.634618e+18   \n",
       "min         1.000000      18.022799    -159.714760  1.003000e+03   \n",
       "25%        19.000000      40.016790    -105.096820  1.172000e+03   \n",
       "50%        23.000000      40.937790     -97.263480  5.009000e+03   \n",
       "75%        31.000000      42.634204     -80.866290  5.009000e+03   \n",
       "max        33.000000      47.978210      11.210057  8.996314e+18   \n",
       "\n",
       "          partner_id  \n",
       "count  136927.000000  \n",
       "mean        1.708056  \n",
       "std         0.667808  \n",
       "min         1.000000  \n",
       "25%         1.000000  \n",
       "50%         2.000000  \n",
       "75%         2.000000  \n",
       "max         3.000000  "
      ]
     },
     "execution_count": 18,
     "metadata": {},
     "output_type": "execute_result"
    }
   ],
   "source": [
    "## Time-series Resampling for each user using a 5 mins sliding window\n",
    "df_sp_rs = df_sp.set_index('dt').groupby('device_id').resample('5T').first().dropna(how='any', subset=['ts']) \\\n",
    "                                                     .drop(['device_id'],axis=1).reset_index()\n",
    "df_sp_rs.describe()"
   ]
  },
  {
   "cell_type": "code",
   "execution_count": 19,
   "metadata": {},
   "outputs": [
    {
     "data": {
      "text/plain": [
       "array([ 1,  2,  6,  8, 11, 13, 18, 19, 20, 23, 24, 25, 26, 27, 28, 29, 30,\n",
       "       31, 33])"
      ]
     },
     "execution_count": 19,
     "metadata": {},
     "output_type": "execute_result"
    }
   ],
   "source": [
    "# df_sp_rs[]\n",
    "df_sp_rs['device_id'].unique()"
   ]
  },
  {
   "cell_type": "code",
   "execution_count": 20,
   "metadata": {},
   "outputs": [
    {
     "data": {
      "image/png": "[encoded data removed]",
      "text/plain": [
       "<Figure size 1440x720 with 2 Axes>"
      ]
     },
     "metadata": {
      "needs_background": "light"
     },
     "output_type": "display_data"
    }
   ],
   "source": [
    "## Before and After resampling\n",
    "\n",
    "fig = plt.figure(figsize=(20,10))\n",
    "\n",
    "plt.subplot(1, 2, 1)\n",
    "plt.scatter(df_sp[df_sp['device_id']==1]['lon'], df_sp[df_sp['device_id']==1]['lat'],s=2, marker='^',color='red')\n",
    "plt.xlabel(r\"longitude\")\n",
    "plt.ylabel(r\"latitude\")\n",
    "plt.title('User1 Origin')\n",
    "\n",
    "plt.subplot(1, 2, 2)\n",
    "plt.scatter(df_sp_rs[df_sp_rs['device_id']==1]['lon'], df_sp_rs[df_sp_rs['device_id']==1]['lat'],s=2, marker='^',color='red')\n",
    "plt.xlabel(r\"longitude\")\n",
    "plt.ylabel(r\"latitude\")\n",
    "plt.title('User1 Resampled')\n",
    "\n",
    "plt.show()\n"
   ]
  },
  {
   "cell_type": "code",
   "execution_count": 21,
   "metadata": {},
   "outputs": [
    {
     "data": {
      "application/vnd.jupyter.widget-view+json": {
       "model_id": "b967aed16f174c8ab1986355152f3470",
       "version_major": 2,
       "version_minor": 0
      },
      "text/plain": [
       "interactive(children=(Dropdown(description='User', options=(1, 2, 6, 8, 11, 13, 18, 19, 20, 23, 24, 25, 26, 27…"
      ]
     },
     "metadata": {},
     "output_type": "display_data"
    },
    {
     "data": {
      "text/plain": [
       "<function __main__.plot_user_loc(userid, date_dis)>"
      ]
     },
     "execution_count": 21,
     "metadata": {},
     "output_type": "execute_result"
    }
   ],
   "source": [
    "from ipywidgets import interact, IntSlider,SelectionSlider,Dropdown\n",
    "\n",
    "def plot_user_loc(userid,date_dis):\n",
    "    plt.figure(figsize=(12,6))\n",
    "#     plt.axes().set_aspect('equal')\n",
    "    plt.subplot(1, 2, 1)\n",
    "    plt.scatter(df_sp[(df_sp['device_id']==userid) & (df_sp['ts_date']==date_dis)]['lon'],\n",
    "                df_sp[(df_sp['device_id']==userid) & (df_sp['ts_date']==date_dis)]['lat'],\n",
    "                s=2, marker='^',color='red')    \n",
    "    plt.xlabel(r\"longitude\")\n",
    "    plt.ylabel(r\"latitude\")\n",
    "    plt.title('User Origin')\n",
    "    \n",
    "    plt.subplot(1, 2, 2)\n",
    "    plt.scatter(df_sp_rs[(df_sp_rs['device_id']==userid) & (df_sp_rs['ts_date']==date_dis)]['lon'],\n",
    "                df_sp_rs[(df_sp_rs['device_id']==userid) & (df_sp_rs['ts_date']==date_dis)]['lat'],\n",
    "                s=2, marker='^',color='red')    \n",
    "    plt.xlabel(r\"longitude\")\n",
    "    plt.ylabel(r\"latitude\")\n",
    "    plt.title('User Resample')\n",
    "    \n",
    "interact(plot_user_loc, userid = Dropdown(description='User',options=list(df_sp['device_id'].unique())),\n",
    "                        date_dis = SelectionSlider(description='date',\n",
    "                                                   options=list(df_sp[df_sp['device_id']==1]['ts_date'].unique()),\n",
    "                                                   style = {'description_width': 'initial'}))"
   ]
  },
  {
   "cell_type": "markdown",
   "metadata": {},
   "source": [
    "### Data Cleaning\n",
    "- Single user based\n",
    "- For each point, compute the travel speed from previous point and to next point\n",
    "- If any travel speed is unreasonable, tag current point an invalid point"
   ]
  },
  {
   "cell_type": "code",
   "execution_count": 22,
   "metadata": {
    "collapsed": true
   },
   "outputs": [],
   "source": [
    "## Create (lat,lon) tuple\n",
    "\n",
    "df_sp_rs['lat_lon_3'] = df_sp_rs[['lat','lon']].apply(lambda x: (round(x.iloc[0],3),round(x.iloc[1],3)),axis=1)"
   ]
  },
  {
   "cell_type": "code",
   "execution_count": 23,
   "metadata": {
    "collapsed": true
   },
   "outputs": [],
   "source": [
    "# test = gp.get_group(6)"
   ]
  },
  {
   "cell_type": "code",
   "execution_count": 24,
   "metadata": {
    "collapsed": true
   },
   "outputs": [],
   "source": [
    "# row_iterator = test.iterrows()\n",
    "# last = next(row_iterator)[1]\n",
    "# travel_speed = pd.DataFrame(index=test.index,columns=['speed'])\n",
    "# time = pd.DataFrame(index=test.index,columns=['time'])\n",
    "# dist = pd.DataFrame(index=test.index,columns=['dist'])\n",
    "\n",
    "# for i, row in row_iterator:\n",
    "\n",
    "#     travel_speed.loc[i] = distance(row['lat_lon_3'],last['lat_lon_3']).km/((row['dt']-last['dt']).seconds)*3600\n",
    "#     dist.loc[i] = distance(row['lat_lon_3'],last['lat_lon_3']).km\n",
    "#     time.loc[i] = ((row['dt']-last['dt']).seconds)/3600\n",
    "#     last = row\n",
    "# test = test.join(travel_speed).join(dist).join(time)"
   ]
  },
  {
   "cell_type": "code",
   "execution_count": 25,
   "metadata": {},
   "outputs": [
    {
     "name": "stdout",
     "output_type": "stream",
     "text": [
      "0.11100977278453837\n"
     ]
    }
   ],
   "source": [
    "from geopy.distance import distance\n",
    "\"\"\"\n",
    "One 0.001 decimal change in lat: about 111 meters\n",
    "\n",
    "\"\"\"\n",
    "coords_1 = (38.700,-90.471)\n",
    "coords_2 = (38.701,-90.471)\n",
    "\n",
    "print(distance(coords_1, coords_2).km)"
   ]
  },
  {
   "cell_type": "code",
   "execution_count": 26,
   "metadata": {
    "collapsed": true
   },
   "outputs": [],
   "source": [
    "def tspeed_est(data):\n",
    "    \n",
    "    row_iter = data.iterrows()\n",
    "    last = next(row_iter)[1]\n",
    "    travel_speed = pd.DataFrame(index=data.index,columns=['time','dist','tspeed'])\n",
    "\n",
    "    for i, row in row_iter:\n",
    "        travel_speed.loc[i]['time'] = round(((row['dt']-last['dt']).seconds)/3600,4)\n",
    "        travel_speed.loc[i]['dist'] = round(distance(row['lat_lon_3'],last['lat_lon_3']).km,4)\n",
    "        \n",
    "        try:\n",
    "            travel_speed.loc[i]['tspeed'] = round(travel_speed.loc[i]['dist'] / travel_speed.loc[i]['time'],4)\n",
    "        except:\n",
    "            travel_speed.loc[i] = -999\n",
    "            \n",
    "        last = row    \n",
    "        \n",
    "    return travel_speed"
   ]
  },
  {
   "cell_type": "code",
   "execution_count": 27,
   "metadata": {
    "collapsed": true
   },
   "outputs": [],
   "source": [
    "gp = df_sp_rs.groupby('device_id')\n",
    "temp = []\n",
    "for key, data in gp:\n",
    "    temp.append(tspeed_est(data))\n",
    "ts = pd.concat(temp)\n",
    "df_sp_rs = df_sp_rs.join(ts)"
   ]
  },
  {
   "cell_type": "code",
   "execution_count": 28,
   "metadata": {},
   "outputs": [
    {
     "data": {
      "text/plain": [
       "(-999.0, 506.1245409003691)"
      ]
     },
     "execution_count": 28,
     "metadata": {},
     "output_type": "execute_result"
    }
   ],
   "source": [
    "## Check the quantile of nosiy data\n",
    "df_sp_rs['tspeed'].quantile(0.00001), df_sp_rs['tspeed'].quantile(0.999)"
   ]
  },
  {
   "cell_type": "code",
   "execution_count": 29,
   "metadata": {
    "collapsed": true
   },
   "outputs": [],
   "source": [
    "index_an = df_sp_rs[(df_sp_rs['tspeed']<0)|(df_sp_rs['tspeed']>1000)].index\n",
    "index_an = index_an.append(index_an-1)"
   ]
  },
  {
   "cell_type": "code",
   "execution_count": 30,
   "metadata": {},
   "outputs": [
    {
     "data": {
      "text/html": [
       "<div>\n",
       "<style scoped>\n",
       "    .dataframe tbody tr th:only-of-type {\n",
       "        vertical-align: middle;\n",
       "    }\n",
       "\n",
       "    .dataframe tbody tr th {\n",
       "        vertical-align: top;\n",
       "    }\n",
       "\n",
       "    .dataframe thead th {\n",
       "        text-align: right;\n",
       "    }\n",
       "</style>\n",
       "<table border=\"1\" class=\"dataframe\">\n",
       "  <thead>\n",
       "    <tr style=\"text-align: right;\">\n",
       "      <th></th>\n",
       "      <th>device_id</th>\n",
       "      <th>dt</th>\n",
       "      <th>ts</th>\n",
       "      <th>ts_date</th>\n",
       "      <th>ts_quarter</th>\n",
       "      <th>lat</th>\n",
       "      <th>lon</th>\n",
       "      <th>geohash5</th>\n",
       "      <th>country</th>\n",
       "      <th>region</th>\n",
       "      <th>city</th>\n",
       "      <th>zip_code</th>\n",
       "      <th>publisher_id</th>\n",
       "      <th>partner_id</th>\n",
       "      <th>lat_lon_3</th>\n",
       "      <th>time</th>\n",
       "      <th>dist</th>\n",
       "      <th>tspeed</th>\n",
       "    </tr>\n",
       "  </thead>\n",
       "  <tbody>\n",
       "    <tr>\n",
       "      <th>12616</th>\n",
       "      <td>8</td>\n",
       "      <td>2018-02-26 13:20:00</td>\n",
       "      <td>2018-02-26 13:21:10</td>\n",
       "      <td>2018-02-26</td>\n",
       "      <td>2018-01-01</td>\n",
       "      <td>30.927619</td>\n",
       "      <td>-81.685925</td>\n",
       "      <td>djmzv</td>\n",
       "      <td>usa</td>\n",
       "      <td>ga</td>\n",
       "      <td>woodbine</td>\n",
       "      <td>31569</td>\n",
       "      <td>1172.0</td>\n",
       "      <td>2.0</td>\n",
       "      <td>(30.928, -81.686)</td>\n",
       "      <td>1</td>\n",
       "      <td>19.5038</td>\n",
       "      <td>19.5038</td>\n",
       "    </tr>\n",
       "    <tr>\n",
       "      <th>12617</th>\n",
       "      <td>8</td>\n",
       "      <td>2018-02-26 13:25:00</td>\n",
       "      <td>2018-02-26 13:27:10</td>\n",
       "      <td>2018-02-26</td>\n",
       "      <td>2018-01-01</td>\n",
       "      <td>31.651889</td>\n",
       "      <td>-81.392975</td>\n",
       "      <td>djwh5</td>\n",
       "      <td>usa</td>\n",
       "      <td>ga</td>\n",
       "      <td>riceboro</td>\n",
       "      <td>31323</td>\n",
       "      <td>1172.0</td>\n",
       "      <td>2.0</td>\n",
       "      <td>(31.652, -81.393)</td>\n",
       "      <td>0.0833</td>\n",
       "      <td>84.9825</td>\n",
       "      <td>1020.2</td>\n",
       "    </tr>\n",
       "    <tr>\n",
       "      <th>12999</th>\n",
       "      <td>8</td>\n",
       "      <td>2018-03-14 22:55:00</td>\n",
       "      <td>2018-03-14 22:58:06</td>\n",
       "      <td>2018-03-14</td>\n",
       "      <td>2018-01-01</td>\n",
       "      <td>40.242400</td>\n",
       "      <td>-75.636700</td>\n",
       "      <td>dr4hy</td>\n",
       "      <td>usa</td>\n",
       "      <td>pa</td>\n",
       "      <td>pottstown</td>\n",
       "      <td>19464</td>\n",
       "      <td>NaN</td>\n",
       "      <td>2.0</td>\n",
       "      <td>(40.242, -75.637)</td>\n",
       "      <td>0.6667</td>\n",
       "      <td>456.62</td>\n",
       "      <td>684.895</td>\n",
       "    </tr>\n",
       "    <tr>\n",
       "      <th>13000</th>\n",
       "      <td>8</td>\n",
       "      <td>2018-03-14 23:15:00</td>\n",
       "      <td>2018-03-14 23:15:56</td>\n",
       "      <td>2018-03-14</td>\n",
       "      <td>2018-01-01</td>\n",
       "      <td>41.294481</td>\n",
       "      <td>-80.866084</td>\n",
       "      <td>dpq6z</td>\n",
       "      <td>usa</td>\n",
       "      <td>oh</td>\n",
       "      <td>warren</td>\n",
       "      <td>44483</td>\n",
       "      <td>1172.0</td>\n",
       "      <td>2.0</td>\n",
       "      <td>(41.294, -80.866)</td>\n",
       "      <td>0.3333</td>\n",
       "      <td>456.595</td>\n",
       "      <td>1369.92</td>\n",
       "    </tr>\n",
       "    <tr>\n",
       "      <th>14179</th>\n",
       "      <td>8</td>\n",
       "      <td>2018-05-04 13:45:00</td>\n",
       "      <td>2018-05-04 13:49:42</td>\n",
       "      <td>2018-05-04</td>\n",
       "      <td>2018-04-01</td>\n",
       "      <td>44.999400</td>\n",
       "      <td>-93.297000</td>\n",
       "      <td>9zvxu</td>\n",
       "      <td>usa</td>\n",
       "      <td>mn</td>\n",
       "      <td>minneapolis</td>\n",
       "      <td>55411</td>\n",
       "      <td>1154.0</td>\n",
       "      <td>1.0</td>\n",
       "      <td>(44.999, -93.297)</td>\n",
       "      <td>1.75</td>\n",
       "      <td>1090.33</td>\n",
       "      <td>623.046</td>\n",
       "    </tr>\n",
       "  </tbody>\n",
       "</table>\n",
       "</div>"
      ],
      "text/plain": [
       "       device_id                  dt                   ts     ts_date  \\\n",
       "12616          8 2018-02-26 13:20:00  2018-02-26 13:21:10  2018-02-26   \n",
       "12617          8 2018-02-26 13:25:00  2018-02-26 13:27:10  2018-02-26   \n",
       "12999          8 2018-03-14 22:55:00  2018-03-14 22:58:06  2018-03-14   \n",
       "13000          8 2018-03-14 23:15:00  2018-03-14 23:15:56  2018-03-14   \n",
       "14179          8 2018-05-04 13:45:00  2018-05-04 13:49:42  2018-05-04   \n",
       "\n",
       "       ts_quarter        lat        lon geohash5 country region         city  \\\n",
       "12616  2018-01-01  30.927619 -81.685925    djmzv     usa     ga     woodbine   \n",
       "12617  2018-01-01  31.651889 -81.392975    djwh5     usa     ga     riceboro   \n",
       "12999  2018-01-01  40.242400 -75.636700    dr4hy     usa     pa    pottstown   \n",
       "13000  2018-01-01  41.294481 -80.866084    dpq6z     usa     oh       warren   \n",
       "14179  2018-04-01  44.999400 -93.297000    9zvxu     usa     mn  minneapolis   \n",
       "\n",
       "      zip_code  publisher_id  partner_id          lat_lon_3    time     dist  \\\n",
       "12616    31569        1172.0         2.0  (30.928, -81.686)       1  19.5038   \n",
       "12617    31323        1172.0         2.0  (31.652, -81.393)  0.0833  84.9825   \n",
       "12999    19464           NaN         2.0  (40.242, -75.637)  0.6667   456.62   \n",
       "13000    44483        1172.0         2.0  (41.294, -80.866)  0.3333  456.595   \n",
       "14179    55411        1154.0         1.0  (44.999, -93.297)    1.75  1090.33   \n",
       "\n",
       "        tspeed  \n",
       "12616  19.5038  \n",
       "12617   1020.2  \n",
       "12999  684.895  \n",
       "13000  1369.92  \n",
       "14179  623.046  "
      ]
     },
     "execution_count": 30,
     "metadata": {},
     "output_type": "execute_result"
    }
   ],
   "source": [
    "df_sp_rs.iloc[np.sort(index_an)][0:5]"
   ]
  },
  {
   "cell_type": "code",
   "execution_count": 31,
   "metadata": {},
   "outputs": [
    {
     "data": {
      "text/plain": [
       "<matplotlib.axes._subplots.AxesSubplot at 0x2b1d659ee6a0>"
      ]
     },
     "execution_count": 31,
     "metadata": {},
     "output_type": "execute_result"
    },
    {
     "data": {
      "image/png": "[encoded data removed]",
      "text/plain": [
       "<Figure size 432x288 with 1 Axes>"
      ]
     },
     "metadata": {
      "needs_background": "light"
     },
     "output_type": "display_data"
    }
   ],
   "source": [
    "df_sp_rs.iloc[np.sort(index_an)][['device_id','tspeed']].groupby('device_id').count() \\\n",
    "                                                        .plot.bar(rot=0,title='Number of noisy points for each user')"
   ]
  },
  {
   "cell_type": "code",
   "execution_count": 32,
   "metadata": {
    "collapsed": true
   },
   "outputs": [],
   "source": [
    "## Drop these noisy values\n",
    "df_sp_rs = df_sp_rs[(df_sp_rs['tspeed'] >= 0) & (df_sp_rs['tspeed'] < 1000)]"
   ]
  },
  {
   "cell_type": "code",
   "execution_count": 33,
   "metadata": {
    "collapsed": true
   },
   "outputs": [],
   "source": [
    "## Create necessary column for future analysis\n",
    "\n",
    "df_sp_rs['year'] = df_sp_rs['dt'].map(lambda x: x.year)\n",
    "df_sp_rs['month'] = df_sp_rs['dt'].map(lambda x: x.month)\n",
    "df_sp_rs['day'] = df_sp_rs['dt'].map(lambda x: x.day)\n",
    "df_sp_rs['weekday'] = df_sp_rs['dt'].map(lambda x: x.weekday())\n",
    "df_sp_rs['week'] = df_sp_rs['dt'].map(lambda x: x.week)\n",
    "df_sp_rs['date'] = df_sp_rs['dt'].map(lambda x: x.date())"
   ]
  },
  {
   "cell_type": "markdown",
   "metadata": {},
   "source": [
    "### Stay Point Detection"
   ]
  },
  {
   "cell_type": "code",
   "execution_count": 34,
   "metadata": {},
   "outputs": [
    {
     "data": {
      "text/html": [
       "<div>\n",
       "<style scoped>\n",
       "    .dataframe tbody tr th:only-of-type {\n",
       "        vertical-align: middle;\n",
       "    }\n",
       "\n",
       "    .dataframe tbody tr th {\n",
       "        vertical-align: top;\n",
       "    }\n",
       "\n",
       "    .dataframe thead th {\n",
       "        text-align: right;\n",
       "    }\n",
       "</style>\n",
       "<table border=\"1\" class=\"dataframe\">\n",
       "  <thead>\n",
       "    <tr style=\"text-align: right;\">\n",
       "      <th></th>\n",
       "      <th>index</th>\n",
       "      <th>device_id</th>\n",
       "      <th>date</th>\n",
       "      <th>stop_point</th>\n",
       "      <th>stop_freq</th>\n",
       "      <th>mon_fri</th>\n",
       "    </tr>\n",
       "  </thead>\n",
       "  <tbody>\n",
       "    <tr>\n",
       "      <th>0</th>\n",
       "      <td>1</td>\n",
       "      <td>1</td>\n",
       "      <td>2018-01-02</td>\n",
       "      <td>(38.733, -90.674)</td>\n",
       "      <td>4</td>\n",
       "      <td>1</td>\n",
       "    </tr>\n",
       "    <tr>\n",
       "      <th>1</th>\n",
       "      <td>4</td>\n",
       "      <td>1</td>\n",
       "      <td>2018-01-03</td>\n",
       "      <td>(38.733, -90.674)</td>\n",
       "      <td>5</td>\n",
       "      <td>1</td>\n",
       "    </tr>\n",
       "    <tr>\n",
       "      <th>2</th>\n",
       "      <td>9</td>\n",
       "      <td>1</td>\n",
       "      <td>2018-01-03</td>\n",
       "      <td>(38.793, -90.595)</td>\n",
       "      <td>2</td>\n",
       "      <td>1</td>\n",
       "    </tr>\n",
       "    <tr>\n",
       "      <th>3</th>\n",
       "      <td>11</td>\n",
       "      <td>1</td>\n",
       "      <td>2018-01-04</td>\n",
       "      <td>(38.733, -90.674)</td>\n",
       "      <td>3</td>\n",
       "      <td>1</td>\n",
       "    </tr>\n",
       "    <tr>\n",
       "      <th>4</th>\n",
       "      <td>19</td>\n",
       "      <td>1</td>\n",
       "      <td>2018-01-05</td>\n",
       "      <td>(38.753, -90.435)</td>\n",
       "      <td>2</td>\n",
       "      <td>1</td>\n",
       "    </tr>\n",
       "  </tbody>\n",
       "</table>\n",
       "</div>"
      ],
      "text/plain": [
       "   index  device_id        date         stop_point  stop_freq  mon_fri\n",
       "0      1          1  2018-01-02  (38.733, -90.674)          4        1\n",
       "1      4          1  2018-01-03  (38.733, -90.674)          5        1\n",
       "2      9          1  2018-01-03  (38.793, -90.595)          2        1\n",
       "3     11          1  2018-01-04  (38.733, -90.674)          3        1\n",
       "4     19          1  2018-01-05  (38.753, -90.435)          2        1"
      ]
     },
     "execution_count": 34,
     "metadata": {},
     "output_type": "execute_result"
    }
   ],
   "source": [
    "## Specify a stop duration defination:{'1': 5 mins}\n",
    "\n",
    "stop_dur = 1\n",
    "\n",
    "df_sp_stop = df_sp_rs[['device_id','date','lat_lon_3','dt']] \\\n",
    "                                            .groupby(['device_id','date','lat_lon_3']).count().reset_index()\n",
    "df_sp_stop = df_sp_stop.drop(df_sp_stop[df_sp_stop['dt']<=stop_dur].index).reset_index() \\\n",
    "                                            .rename(columns={'lat_lon_3':'stop_point','dt':'stop_freq'})\n",
    "\n",
    "df_sp_stop['mon_fri'] = df_sp_stop['date'].map(lambda x: (x.weekday() < 5)*1)\n",
    "\n",
    "df_sp_stop[0:5]"
   ]
  },
  {
   "cell_type": "code",
   "execution_count": 74,
   "metadata": {},
   "outputs": [
    {
     "data": {
      "application/vnd.jupyter.widget-view+json": {
       "model_id": "7e8e3897cd62436c8f985a7512f35dca",
       "version_major": 2,
       "version_minor": 0
      },
      "text/plain": [
       "interactive(children=(Dropdown(description='User', options=(1, 2, 6, 8, 11, 13, 18, 19, 20, 23, 24, 25, 26, 27…"
      ]
     },
     "metadata": {},
     "output_type": "display_data"
    },
    {
     "data": {
      "text/plain": [
       "<function __main__.plot_stay_point(userid, date_dis)>"
      ]
     },
     "execution_count": 74,
     "metadata": {},
     "output_type": "execute_result"
    }
   ],
   "source": [
    "def plot_stay_point(userid,date_dis):\n",
    "    \n",
    "    fig = plt.figure(figsize=(12,6))\n",
    "    ax1 = fig.add_subplot(1, 2, 1)\n",
    "  \n",
    " \n",
    "    ax1.scatter(df_sp_rs[(df_sp_rs['device_id']==userid) & (df_sp_rs['date']==date_dis)]['lon'],\n",
    "                    df_sp_rs[(df_sp_rs['device_id']==userid) & (df_sp_rs['date']==date_dis)]['lat'],\n",
    "                     s = 2, marker='^',color='red')  \n",
    "    plt.xlabel(r\"longitude\")\n",
    "    plt.ylabel(r\"latitude\")\n",
    "    plt.title('User Resampled')\n",
    "    \n",
    "#     plt.subplot(1, 2, 2)\n",
    "    \n",
    "    ax2 = fig.add_subplot(1, 2, 2, sharex=ax1,sharey=ax1) \n",
    "    pointlist = list(zip(*df_sp_stop[(df_sp_stop['device_id']==userid) & (df_sp_stop['date']==date_dis)]['stop_point']))\n",
    "    \n",
    "   \n",
    "    ax2.scatter(list(pointlist[1]),list(pointlist[0]), s=30, marker='o',color='blue')  \n",
    "    plt.xlabel(r\"longitude\")\n",
    "    plt.ylabel(r\"latitude\")\n",
    "    plt.title('User Stay Point')\n",
    "    \n",
    "interact(plot_stay_point, userid = Dropdown(description='User',options=list(df_sp_stop['device_id'].unique())),\n",
    "                        date_dis = SelectionSlider(description='ts_date',\n",
    "                                                   options=list(df_sp_stop[df_sp_stop['device_id']==1]['date'].unique()),\n",
    "                                                   style = {'description_width': 'initial'}))"
   ]
  },
  {
   "cell_type": "code",
   "execution_count": 36,
   "metadata": {},
   "outputs": [
    {
     "data": {
      "text/html": [
       "<div>\n",
       "<style scoped>\n",
       "    .dataframe tbody tr th:only-of-type {\n",
       "        vertical-align: middle;\n",
       "    }\n",
       "\n",
       "    .dataframe tbody tr th {\n",
       "        vertical-align: top;\n",
       "    }\n",
       "\n",
       "    .dataframe thead th {\n",
       "        text-align: right;\n",
       "    }\n",
       "</style>\n",
       "<table border=\"1\" class=\"dataframe\">\n",
       "  <thead>\n",
       "    <tr style=\"text-align: right;\">\n",
       "      <th></th>\n",
       "      <th>device_id</th>\n",
       "      <th>date</th>\n",
       "      <th>stop_point_num</th>\n",
       "      <th>mon_fri</th>\n",
       "    </tr>\n",
       "  </thead>\n",
       "  <tbody>\n",
       "    <tr>\n",
       "      <th>0</th>\n",
       "      <td>1</td>\n",
       "      <td>2018-01-02</td>\n",
       "      <td>1</td>\n",
       "      <td>1</td>\n",
       "    </tr>\n",
       "    <tr>\n",
       "      <th>1</th>\n",
       "      <td>1</td>\n",
       "      <td>2018-01-03</td>\n",
       "      <td>2</td>\n",
       "      <td>1</td>\n",
       "    </tr>\n",
       "    <tr>\n",
       "      <th>2</th>\n",
       "      <td>1</td>\n",
       "      <td>2018-01-04</td>\n",
       "      <td>1</td>\n",
       "      <td>1</td>\n",
       "    </tr>\n",
       "    <tr>\n",
       "      <th>3</th>\n",
       "      <td>1</td>\n",
       "      <td>2018-01-05</td>\n",
       "      <td>1</td>\n",
       "      <td>1</td>\n",
       "    </tr>\n",
       "    <tr>\n",
       "      <th>4</th>\n",
       "      <td>1</td>\n",
       "      <td>2018-01-06</td>\n",
       "      <td>4</td>\n",
       "      <td>0</td>\n",
       "    </tr>\n",
       "  </tbody>\n",
       "</table>\n",
       "</div>"
      ],
      "text/plain": [
       "   device_id        date  stop_point_num  mon_fri\n",
       "0          1  2018-01-02               1        1\n",
       "1          1  2018-01-03               2        1\n",
       "2          1  2018-01-04               1        1\n",
       "3          1  2018-01-05               1        1\n",
       "4          1  2018-01-06               4        0"
      ]
     },
     "execution_count": 36,
     "metadata": {},
     "output_type": "execute_result"
    }
   ],
   "source": [
    "## Aggregate the stop point number per day\n",
    "\n",
    "df_sp_stopnum = df_sp_stop[['device_id','date','mon_fri','stop_point']].groupby(['device_id','date']) \\\n",
    "                                                            .agg({'stop_point':'count','mon_fri':'first'})\\\n",
    "                                                            .rename(columns={'stop_point':'stop_point_num'}).reset_index()\n",
    "df_sp_stopnum[0:5]"
   ]
  },
  {
   "cell_type": "markdown",
   "metadata": {},
   "source": [
    "## User-based feature engineering"
   ]
  },
  {
   "cell_type": "markdown",
   "metadata": {},
   "source": [
    "### 1. Location-based Features"
   ]
  },
  {
   "cell_type": "markdown",
   "metadata": {},
   "source": [
    "** Stay point feature**\n",
    "- Average stay points during weekend / weekend"
   ]
  },
  {
   "cell_type": "code",
   "execution_count": 50,
   "metadata": {
    "scrolled": true
   },
   "outputs": [
    {
     "data": {
      "text/plain": [
       "<matplotlib.axes._subplots.AxesSubplot at 0x2b1d6d8284a8>"
      ]
     },
     "execution_count": 50,
     "metadata": {},
     "output_type": "execute_result"
    },
    {
     "data": {
      "image/png": "[encoded data removed]",
      "text/plain": [
       "<Figure size 648x360 with 1 Axes>"
      ]
     },
     "metadata": {
      "needs_background": "light"
     },
     "output_type": "display_data"
    }
   ],
   "source": [
    "df_sp_userstop = df_sp_stopnum[df_sp_stopnum['mon_fri']==1][['device_id','stop_point_num']].groupby('device_id').mean() \\\n",
    "                                                            .rename(columns={'stop_point_num':'weekday_stop'}) \\\n",
    "                .join(df_sp_stopnum[df_sp_stopnum['mon_fri']==0][['device_id','stop_point_num']].groupby('device_id').mean() \\\n",
    "                                                            .rename(columns={'stop_point_num':'weekend_stop'}) )\n",
    "df_sp_userstop.plot.bar(rot=0,title='Average number of stop points in use day',color = ['blue','orange'],figsize=(9,5))  "
   ]
  },
  {
   "cell_type": "code",
   "execution_count": 212,
   "metadata": {},
   "outputs": [
    {
     "data": {
      "text/html": [
       "<div>\n",
       "<style scoped>\n",
       "    .dataframe tbody tr th:only-of-type {\n",
       "        vertical-align: middle;\n",
       "    }\n",
       "\n",
       "    .dataframe tbody tr th {\n",
       "        vertical-align: top;\n",
       "    }\n",
       "\n",
       "    .dataframe thead th {\n",
       "        text-align: right;\n",
       "    }\n",
       "</style>\n",
       "<table border=\"1\" class=\"dataframe\">\n",
       "  <thead>\n",
       "    <tr style=\"text-align: right;\">\n",
       "      <th></th>\n",
       "      <th>weekday_stop</th>\n",
       "      <th>weekend_stop</th>\n",
       "    </tr>\n",
       "    <tr>\n",
       "      <th>device_id</th>\n",
       "      <th></th>\n",
       "      <th></th>\n",
       "    </tr>\n",
       "  </thead>\n",
       "  <tbody>\n",
       "    <tr>\n",
       "      <th>1</th>\n",
       "      <td>1.971429</td>\n",
       "      <td>2.318182</td>\n",
       "    </tr>\n",
       "    <tr>\n",
       "      <th>2</th>\n",
       "      <td>1.100000</td>\n",
       "      <td>1.625000</td>\n",
       "    </tr>\n",
       "    <tr>\n",
       "      <th>6</th>\n",
       "      <td>2.500000</td>\n",
       "      <td>2.647059</td>\n",
       "    </tr>\n",
       "    <tr>\n",
       "      <th>8</th>\n",
       "      <td>3.386973</td>\n",
       "      <td>3.588235</td>\n",
       "    </tr>\n",
       "    <tr>\n",
       "      <th>11</th>\n",
       "      <td>2.610526</td>\n",
       "      <td>2.281250</td>\n",
       "    </tr>\n",
       "  </tbody>\n",
       "</table>\n",
       "</div>"
      ],
      "text/plain": [
       "           weekday_stop  weekend_stop\n",
       "device_id                            \n",
       "1              1.971429      2.318182\n",
       "2              1.100000      1.625000\n",
       "6              2.500000      2.647059\n",
       "8              3.386973      3.588235\n",
       "11             2.610526      2.281250"
      ]
     },
     "execution_count": 212,
     "metadata": {},
     "output_type": "execute_result"
    }
   ],
   "source": [
    "df_sp_userstop [0:5]"
   ]
  },
  {
   "cell_type": "markdown",
   "metadata": {},
   "source": [
    "### 2. Time-based features"
   ]
  },
  {
   "cell_type": "markdown",
   "metadata": {},
   "source": [
    "**Daily Frequency - Average App Exporsure**\n",
    "- Data collection frequency / App user frequency\n",
    "- measureing user's exposure to Apps."
   ]
  },
  {
   "cell_type": "code",
   "execution_count": 37,
   "metadata": {},
   "outputs": [
    {
     "data": {
      "text/plain": [
       "[<matplotlib.lines.Line2D at 0x2b1d66d7e208>]"
      ]
     },
     "execution_count": 37,
     "metadata": {},
     "output_type": "execute_result"
    },
    {
     "data": {
      "image/png": "[encoded data removed]",
      "text/plain": [
       "<Figure size 432x288 with 1 Axes>"
      ]
     },
     "metadata": {
      "needs_background": "light"
     },
     "output_type": "display_data"
    }
   ],
   "source": [
    "## User 8 useage frequency vs. use-day\n",
    "df_daggre_sp = df_sp_rs[['device_id','date','ts']].groupby(['device_id','date']).count().reset_index()\n",
    "plt.plot(df_daggre_sp[df_daggre_sp['device_id']==8]['ts'])"
   ]
  },
  {
   "cell_type": "markdown",
   "metadata": {},
   "source": [
    "**Daily usage frquency **\n",
    "- Average Data collection frequency to (end date - start date)"
   ]
  },
  {
   "cell_type": "code",
   "execution_count": 150,
   "metadata": {
    "collapsed": true
   },
   "outputs": [],
   "source": [
    "# Daily usage frquency (at a 5 min pace) of the period when data were collected\n",
    "user_freq = pd.DataFrame(df_sp_rs[['device_id','dt']].groupby('device_id')['dt'] \\\n",
    "                         .apply(lambda x: x.count() / ((x.max() - x.min()).days + 1))) \\\n",
    "                         .rename(columns = {'dt':'avg_daily_freq'})"
   ]
  },
  {
   "cell_type": "markdown",
   "metadata": {},
   "source": [
    "**Use Day Frequency**\n",
    "- Average Data collection frequency for each use day (exposed days)"
   ]
  },
  {
   "cell_type": "code",
   "execution_count": 151,
   "metadata": {
    "collapsed": true
   },
   "outputs": [],
   "source": [
    "## Average use-day frequency\n",
    "freq_day = df_sp_rs[['device_id','ts_date','ts']].groupby(['device_id','ts_date']).count().groupby('device_id').mean() \\\n",
    "                                                 .rename(columns={'ts':'avg_useday_freq'})"
   ]
  },
  {
   "cell_type": "code",
   "execution_count": 154,
   "metadata": {},
   "outputs": [
    {
     "data": {
      "text/plain": [
       "<matplotlib.axes._subplots.AxesSubplot at 0x2b25de6992b0>"
      ]
     },
     "execution_count": 154,
     "metadata": {},
     "output_type": "execute_result"
    },
    {
     "data": {
      "image/png": "[encoded data removed]",
      "text/plain": [
       "<Figure size 432x288 with 1 Axes>"
      ]
     },
     "metadata": {
      "needs_background": "light"
     },
     "output_type": "display_data"
    }
   ],
   "source": [
    "user_freq = user_freq.join(freq_day)\n",
    "user_freq.plot.bar(rot=0,color=['blue','orange'])"
   ]
  },
  {
   "cell_type": "markdown",
   "metadata": {},
   "source": [
    "### Autocorrelation\n",
    "\n",
    "Time-series Feature: autocorrelation of use day frequency\n",
    "- Correlation of app using (GPS exposure) vs the time?\n",
    "- Indicated the app exposure pattern"
   ]
  },
  {
   "cell_type": "code",
   "execution_count": 41,
   "metadata": {
    "collapsed": true
   },
   "outputs": [],
   "source": [
    "df_user1 = df_sp_rs[['device_id','ts_date','ts']].groupby(['device_id','ts_date']).count().reset_index()"
   ]
  },
  {
   "cell_type": "code",
   "execution_count": 42,
   "metadata": {
    "collapsed": true
   },
   "outputs": [],
   "source": [
    "df_sp_freq = df_sp_rs[['device_id','date','dt']].groupby(['device_id','date']).count() \\\n",
    "                                   .rename(columns={'dt':'useday_freq'}).reset_index()"
   ]
  },
  {
   "cell_type": "code",
   "execution_count": 43,
   "metadata": {},
   "outputs": [
    {
     "data": {
      "text/plain": [
       "<matplotlib.axes._subplots.AxesSubplot at 0x2b1d66df9d68>"
      ]
     },
     "execution_count": 43,
     "metadata": {},
     "output_type": "execute_result"
    },
    {
     "data": {
      "image/png": "[encoded data removed]",
      "text/plain": [
       "<Figure size 432x288 with 1 Axes>"
      ]
     },
     "metadata": {
      "needs_background": "light"
     },
     "output_type": "display_data"
    }
   ],
   "source": [
    "df_user1 = df_sp_freq[df_sp_freq['device_id']==1].set_index('date')\n",
    "idx = pd.date_range(min(df_user1.index), max(df_user1.index))\n",
    "df_user1 = df_user1.drop('device_id',axis=1).reindex(idx, fill_value=0)\n",
    "df_user1.plot()"
   ]
  },
  {
   "cell_type": "code",
   "execution_count": 44,
   "metadata": {},
   "outputs": [
    {
     "data": {
      "text/plain": [
       "<matplotlib.axes._subplots.AxesSubplot at 0x2b1d66e89f28>"
      ]
     },
     "execution_count": 44,
     "metadata": {},
     "output_type": "execute_result"
    },
    {
     "data": {
      "image/png": "[encoded data removed]",
      "text/plain": [
       "<Figure size 432x288 with 1 Axes>"
      ]
     },
     "metadata": {
      "needs_background": "light"
     },
     "output_type": "display_data"
    }
   ],
   "source": [
    "from pandas.plotting import autocorrelation_plot\n",
    "autocorrelation_plot(df_user1)"
   ]
  },
  {
   "cell_type": "code",
   "execution_count": 45,
   "metadata": {},
   "outputs": [
    {
     "name": "stdout",
     "output_type": "stream",
     "text": [
      "Lag: 13\n"
     ]
    }
   ],
   "source": [
    "from statsmodels.tsa.ar_model import AR\n",
    "ar_model = AR(df_user1).fit()\n",
    "\n",
    "print('Lag: {}' .format(ar_model.k_ar))\n",
    "# print('Coefficients: {}'. format(ar_model.params))"
   ]
  },
  {
   "cell_type": "markdown",
   "metadata": {},
   "source": [
    "Function to extract autoregressive parameter for each user"
   ]
  },
  {
   "cell_type": "code",
   "execution_count": 46,
   "metadata": {
    "collapsed": true
   },
   "outputs": [],
   "source": [
    "from statsmodels.tsa.ar_model import AR\n",
    "\n",
    "def autoregress(data):\n",
    "    data = data[['date','use_freq']].set_index('date')\n",
    "    idx = pd.date_range(min(data.index), max(data.index))\n",
    "    data = data.reindex(idx, fill_value=0)\n",
    "    \n",
    "    ar_model = AR(data).fit()\n",
    "    return ar_model.k_ar"
   ]
  },
  {
   "cell_type": "code",
   "execution_count": 47,
   "metadata": {
    "collapsed": true
   },
   "outputs": [],
   "source": [
    "df_sp_auto = df_sp_rs[['device_id','date','dt']].groupby(['device_id','date']).count() \\\n",
    "                                                .rename(columns={'dt':'use_freq'}).reset_index()\n",
    "group = df_sp_auto.groupby('device_id')"
   ]
  },
  {
   "cell_type": "code",
   "execution_count": 48,
   "metadata": {
    "collapsed": true
   },
   "outputs": [],
   "source": [
    "user_autolag = pd.DataFrame(index=user_freq.index)\n",
    "lag_list = []\n",
    "for key, data in group:\n",
    "    lag_list.append(autoregress(data))\n",
    "user_autolag['auto_lag'] = np.array(lag_list)"
   ]
  },
  {
   "cell_type": "code",
   "execution_count": 49,
   "metadata": {},
   "outputs": [
    {
     "data": {
      "text/plain": [
       "<matplotlib.axes._subplots.AxesSubplot at 0x2b1d6d7111d0>"
      ]
     },
     "execution_count": 49,
     "metadata": {},
     "output_type": "execute_result"
    },
    {
     "data": {
      "image/png": "[encoded data removed]",
      "text/plain": [
       "<Figure size 576x432 with 1 Axes>"
      ]
     },
     "metadata": {
      "needs_background": "light"
     },
     "output_type": "display_data"
    }
   ],
   "source": [
    "user_autolag.plot.bar(rot=0,figsize=(8,6),title='Autoregressive parameter of App Use Freq.')"
   ]
  },
  {
   "cell_type": "markdown",
   "metadata": {},
   "source": [
    "### 3. Activity-based features"
   ]
  },
  {
   "cell_type": "markdown",
   "metadata": {},
   "source": [
    "Are there any intertional travelers?"
   ]
  },
  {
   "cell_type": "code",
   "execution_count": 52,
   "metadata": {},
   "outputs": [
    {
     "data": {
      "text/plain": [
       "((1088,), (174,), (1089,))"
      ]
     },
     "execution_count": 52,
     "metadata": {},
     "output_type": "execute_result"
    }
   ],
   "source": [
    "df_travel[df_travel['country']=='usa']['device_id'].unique().shape, \\\n",
    "df_travel[df_travel['country']!='usa']['device_id'].unique().shape, \\\n",
    "df_travel['device_id'].unique().shape"
   ]
  },
  {
   "cell_type": "markdown",
   "metadata": {},
   "source": [
    "** International, Domestic, Local Traveler**\n",
    "- Ineternational / regionwide / citywide traveler / local traveler\n",
    "- Significant difference in travel behaviors and customer value\n",
    "- Help identify marketing target"
   ]
  },
  {
   "cell_type": "code",
   "execution_count": 53,
   "metadata": {
    "collapsed": true
   },
   "outputs": [],
   "source": [
    "## Given region and period, return average frquency of regionwide travel for each user\n",
    "def traveler_type_agg(df,reg,pd):\n",
    "    \"\"\"\n",
    "    pass in: dataframe, region: ['country','region','city'], period: ['year','month','week']\n",
    "    output: dataframe of user regionwide travel frequency of specified period\n",
    "    \"\"\"\n",
    "    avg_reg_pd = df.groupby(['device_id',pd])[reg].nunique() \\\n",
    "                .reset_index()[['device_id',reg]].groupby('device_id').mean() \\\n",
    "                .rename(columns = {reg:'avg_{}_{}'.format(reg,pd)})\n",
    "    \n",
    "    return avg_reg_pd"
   ]
  },
  {
   "cell_type": "code",
   "execution_count": 62,
   "metadata": {},
   "outputs": [],
   "source": [
    "## Develop regionwide travel frquency features\n",
    "\n",
    "travel_agg = []\n",
    "for region in ['country','region','city']:\n",
    "    for period in ['year','month','week']:\n",
    "        travel_agg.append(traveler_type_agg(df_sp_rs,region,period))"
   ]
  },
  {
   "cell_type": "code",
   "execution_count": 63,
   "metadata": {},
   "outputs": [
    {
     "data": {
      "text/plain": [
       "(19, 9)"
      ]
     },
     "execution_count": 63,
     "metadata": {},
     "output_type": "execute_result"
    }
   ],
   "source": [
    "travel_type = pd.concat(travel_agg,axis=1)\n",
    "travel_type.shape"
   ]
  },
  {
   "cell_type": "code",
   "execution_count": 66,
   "metadata": {},
   "outputs": [
    {
     "data": {
      "text/plain": [
       "<matplotlib.axes._subplots.AxesSubplot at 0x2b1d6e09a710>"
      ]
     },
     "execution_count": 66,
     "metadata": {},
     "output_type": "execute_result"
    },
    {
     "data": {
      "image/png": "[encoded data removed]",
      "text/plain": [
       "<Figure size 720x576 with 1 Axes>"
      ]
     },
     "metadata": {
      "needs_background": "light"
     },
     "output_type": "display_data"
    }
   ],
   "source": [
    "travel_type[['avg_country_month','avg_region_month']].plot.bar(\n",
    "                                                                            rot=0,title='User Travel Frequency',\n",
    "                                                                            color = ['blue','orange'],figsize=(10,8))  "
   ]
  },
  {
   "cell_type": "markdown",
   "metadata": {},
   "source": [
    "## User-based Feature Summary"
   ]
  },
  {
   "cell_type": "markdown",
   "metadata": {},
   "source": [
    "**1. Location-based features**\n",
    "- Average Stay Point numbers\n",
    "\n",
    "**2. Time-based features**\n",
    "- Mobile App use frequency\n",
    "- Autocorrelation parameter for App exposure\n",
    "\n",
    "**3. Activity-based features**\n",
    "- Travel type: International / statewide / citywide travel frequency"
   ]
  },
  {
   "cell_type": "code",
   "execution_count": 211,
   "metadata": {},
   "outputs": [
    {
     "data": {
      "text/html": [
       "<div>\n",
       "<style scoped>\n",
       "    .dataframe tbody tr th:only-of-type {\n",
       "        vertical-align: middle;\n",
       "    }\n",
       "\n",
       "    .dataframe tbody tr th {\n",
       "        vertical-align: top;\n",
       "    }\n",
       "\n",
       "    .dataframe thead th {\n",
       "        text-align: right;\n",
       "    }\n",
       "</style>\n",
       "<table border=\"1\" class=\"dataframe\">\n",
       "  <thead>\n",
       "    <tr style=\"text-align: right;\">\n",
       "      <th></th>\n",
       "      <th>avg_daily_freq</th>\n",
       "      <th>avg_useday_freq</th>\n",
       "      <th>auto_lag</th>\n",
       "      <th>weekday_stop</th>\n",
       "      <th>weekend_stop</th>\n",
       "      <th>avg_country_year</th>\n",
       "      <th>avg_country_month</th>\n",
       "      <th>avg_country_week</th>\n",
       "      <th>avg_region_year</th>\n",
       "      <th>avg_region_month</th>\n",
       "      <th>avg_region_week</th>\n",
       "      <th>avg_city_year</th>\n",
       "      <th>avg_city_month</th>\n",
       "      <th>avg_city_week</th>\n",
       "    </tr>\n",
       "    <tr>\n",
       "      <th>device_id</th>\n",
       "      <th></th>\n",
       "      <th></th>\n",
       "      <th></th>\n",
       "      <th></th>\n",
       "      <th></th>\n",
       "      <th></th>\n",
       "      <th></th>\n",
       "      <th></th>\n",
       "      <th></th>\n",
       "      <th></th>\n",
       "      <th></th>\n",
       "      <th></th>\n",
       "      <th></th>\n",
       "      <th></th>\n",
       "    </tr>\n",
       "  </thead>\n",
       "  <tbody>\n",
       "    <tr>\n",
       "      <th>1</th>\n",
       "      <td>11.125000</td>\n",
       "      <td>12.361111</td>\n",
       "      <td>13</td>\n",
       "      <td>1.971429</td>\n",
       "      <td>2.318182</td>\n",
       "      <td>1</td>\n",
       "      <td>1.0</td>\n",
       "      <td>1.0</td>\n",
       "      <td>2</td>\n",
       "      <td>1.600000</td>\n",
       "      <td>1.666667</td>\n",
       "      <td>18</td>\n",
       "      <td>11.200000</td>\n",
       "      <td>8.833333</td>\n",
       "    </tr>\n",
       "    <tr>\n",
       "      <th>2</th>\n",
       "      <td>1.789809</td>\n",
       "      <td>7.205128</td>\n",
       "      <td>13</td>\n",
       "      <td>1.100000</td>\n",
       "      <td>1.625000</td>\n",
       "      <td>1</td>\n",
       "      <td>1.0</td>\n",
       "      <td>1.0</td>\n",
       "      <td>4</td>\n",
       "      <td>1.600000</td>\n",
       "      <td>1.153846</td>\n",
       "      <td>38</td>\n",
       "      <td>10.200000</td>\n",
       "      <td>4.692308</td>\n",
       "    </tr>\n",
       "    <tr>\n",
       "      <th>6</th>\n",
       "      <td>51.597884</td>\n",
       "      <td>79.284553</td>\n",
       "      <td>14</td>\n",
       "      <td>2.500000</td>\n",
       "      <td>2.647059</td>\n",
       "      <td>1</td>\n",
       "      <td>1.0</td>\n",
       "      <td>1.0</td>\n",
       "      <td>1</td>\n",
       "      <td>1.000000</td>\n",
       "      <td>1.000000</td>\n",
       "      <td>3</td>\n",
       "      <td>1.333333</td>\n",
       "      <td>1.100000</td>\n",
       "    </tr>\n",
       "    <tr>\n",
       "      <th>8</th>\n",
       "      <td>43.539726</td>\n",
       "      <td>43.779614</td>\n",
       "      <td>17</td>\n",
       "      <td>3.386973</td>\n",
       "      <td>3.588235</td>\n",
       "      <td>1</td>\n",
       "      <td>1.0</td>\n",
       "      <td>1.0</td>\n",
       "      <td>10</td>\n",
       "      <td>2.416667</td>\n",
       "      <td>1.500000</td>\n",
       "      <td>131</td>\n",
       "      <td>21.666667</td>\n",
       "      <td>7.250000</td>\n",
       "    </tr>\n",
       "    <tr>\n",
       "      <th>11</th>\n",
       "      <td>8.985612</td>\n",
       "      <td>15.139394</td>\n",
       "      <td>15</td>\n",
       "      <td>2.610526</td>\n",
       "      <td>2.281250</td>\n",
       "      <td>1</td>\n",
       "      <td>1.0</td>\n",
       "      <td>1.0</td>\n",
       "      <td>2</td>\n",
       "      <td>1.100000</td>\n",
       "      <td>1.031250</td>\n",
       "      <td>30</td>\n",
       "      <td>11.100000</td>\n",
       "      <td>9.468750</td>\n",
       "    </tr>\n",
       "  </tbody>\n",
       "</table>\n",
       "</div>"
      ],
      "text/plain": [
       "           avg_daily_freq  avg_useday_freq  auto_lag  weekday_stop  \\\n",
       "device_id                                                            \n",
       "1               11.125000        12.361111        13      1.971429   \n",
       "2                1.789809         7.205128        13      1.100000   \n",
       "6               51.597884        79.284553        14      2.500000   \n",
       "8               43.539726        43.779614        17      3.386973   \n",
       "11               8.985612        15.139394        15      2.610526   \n",
       "\n",
       "           weekend_stop  avg_country_year  avg_country_month  \\\n",
       "device_id                                                      \n",
       "1              2.318182                 1                1.0   \n",
       "2              1.625000                 1                1.0   \n",
       "6              2.647059                 1                1.0   \n",
       "8              3.588235                 1                1.0   \n",
       "11             2.281250                 1                1.0   \n",
       "\n",
       "           avg_country_week  avg_region_year  avg_region_month  \\\n",
       "device_id                                                        \n",
       "1                       1.0                2          1.600000   \n",
       "2                       1.0                4          1.600000   \n",
       "6                       1.0                1          1.000000   \n",
       "8                       1.0               10          2.416667   \n",
       "11                      1.0                2          1.100000   \n",
       "\n",
       "           avg_region_week  avg_city_year  avg_city_month  avg_city_week  \n",
       "device_id                                                                 \n",
       "1                 1.666667             18       11.200000       8.833333  \n",
       "2                 1.153846             38       10.200000       4.692308  \n",
       "6                 1.000000              3        1.333333       1.100000  \n",
       "8                 1.500000            131       21.666667       7.250000  \n",
       "11                1.031250             30       11.100000       9.468750  "
      ]
     },
     "execution_count": 211,
     "metadata": {},
     "output_type": "execute_result"
    }
   ],
   "source": [
    "user_features_sp = pd.concat([user_freq,user_autolag,df_sp_userstop,travel_type],axis=1)\n",
    "user_features_sp[0:5]"
   ]
  },
  {
   "cell_type": "markdown",
   "metadata": {},
   "source": [
    "## Full Data Processing"
   ]
  },
  {
   "cell_type": "code",
   "execution_count": 83,
   "metadata": {},
   "outputs": [
    {
     "name": "stdout",
     "output_type": "stream",
     "text": [
      "This part takes:0:00:00.000067\n"
     ]
    }
   ],
   "source": [
    "now = dt.datetime.now()\n",
    "end = dt.datetime.now()\n",
    "print('This part takes:{}'.format(end-now))"
   ]
  },
  {
   "cell_type": "code",
   "execution_count": 84,
   "metadata": {},
   "outputs": [
    {
     "name": "stdout",
     "output_type": "stream",
     "text": [
      "This part takes:0:11:22.274075\n"
     ]
    }
   ],
   "source": [
    "## Time-series resampling\n",
    "now = dt.datetime.now()\n",
    "\n",
    "datetime = df_travel['ts'].apply(lambda x:dt.datetime.strptime(x,'%Y-%m-%d %X'))\n",
    "datetime = datetime.rename('dt')\n",
    "df_travel = pd.concat([df_travel,datetime],axis=1)\n",
    "\n",
    "df_travel_rs = df_travel.set_index('dt').groupby('device_id').resample('5T').first().dropna(how='any', subset=['ts']) \\\n",
    "                                                     .drop(['device_id'],axis=1).reset_index()\n",
    "    \n",
    "df_travel_rs['lat_lon_3'] = df_travel_rs[['lat','lon']].apply(lambda x: (round(x.iloc[0],3),round(x.iloc[1],3)),axis=1)\n",
    "\n",
    "end = dt.datetime.now()\n",
    "print('This part takes:{}'.format(end-now))"
   ]
  },
  {
   "cell_type": "code",
   "execution_count": null,
   "metadata": {},
   "outputs": [],
   "source": [
    "## Data Cleaning\n",
    "now = dt.datetime.now()\n",
    "\n",
    "gp = df_travel_rs.groupby('device_id')\n",
    "temp = []\n",
    "for key, data in gp:\n",
    "    temp.append(tspeed_est(data))\n",
    "ts = pd.concat(temp)\n",
    "\n",
    "df_travel_rs = df_travel_rs.join(ts)\n",
    "df_travel_rs['tspeed'] = df_travel_rs['tspeed'].fillna(0)\n",
    "df_travel_rs = df_travel_rs[(df_travel_rs['tspeed'] >= 0) & (df_travel_rs['tspeed'] < 1000)]\n",
    "\n",
    "end = dt.datetime.now()\n",
    "print('This part takes:{}'.format(end-now))"
   ]
  },
  {
   "cell_type": "code",
   "execution_count": null,
   "metadata": {
    "collapsed": true
   },
   "outputs": [],
   "source": [
    "# df_travel_rs_2 = df_travel_rs.join(ts)\n",
    "# df_travel_rs_2['tspeed'] = df_travel_rs_2['tspeed'].fillna(0)\n",
    "# df_travel_rs_2 = df_travel_rs_2[(df_travel_rs_2['tspeed'] >= 0) & (df_travel_rs_2['tspeed'] < 1000)]\n",
    "# df_travel_rs = df_travel_rs.loc[df_travel_rs_2.index]"
   ]
  },
  {
   "cell_type": "code",
   "execution_count": 122,
   "metadata": {},
   "outputs": [
    {
     "name": "stdout",
     "output_type": "stream",
     "text": [
      "This part takes:0:01:04.660567\n"
     ]
    }
   ],
   "source": [
    "now = dt.datetime.now()\n",
    "\n",
    "df_travel_rs.to_csv('df_travel_resampled_cleaned.csv')\n",
    "\n",
    "end = dt.datetime.now()\n",
    "print('This part takes:{}'.format(end-now))"
   ]
  },
  {
   "cell_type": "code",
   "execution_count": 210,
   "metadata": {},
   "outputs": [
    {
     "data": {
      "text/html": [
       "<div>\n",
       "<style scoped>\n",
       "    .dataframe tbody tr th:only-of-type {\n",
       "        vertical-align: middle;\n",
       "    }\n",
       "\n",
       "    .dataframe tbody tr th {\n",
       "        vertical-align: top;\n",
       "    }\n",
       "\n",
       "    .dataframe thead th {\n",
       "        text-align: right;\n",
       "    }\n",
       "</style>\n",
       "<table border=\"1\" class=\"dataframe\">\n",
       "  <thead>\n",
       "    <tr style=\"text-align: right;\">\n",
       "      <th></th>\n",
       "      <th>device_id</th>\n",
       "      <th>lat</th>\n",
       "      <th>lon</th>\n",
       "      <th>publisher_id</th>\n",
       "      <th>partner_id</th>\n",
       "      <th>year</th>\n",
       "      <th>month</th>\n",
       "      <th>day</th>\n",
       "      <th>weekday</th>\n",
       "      <th>week</th>\n",
       "    </tr>\n",
       "  </thead>\n",
       "  <tbody>\n",
       "    <tr>\n",
       "      <th>count</th>\n",
       "      <td>2.362084e+06</td>\n",
       "      <td>2.362084e+06</td>\n",
       "      <td>2.362084e+06</td>\n",
       "      <td>1.583722e+06</td>\n",
       "      <td>2.362084e+06</td>\n",
       "      <td>2362084.0</td>\n",
       "      <td>2.362084e+06</td>\n",
       "      <td>2.362084e+06</td>\n",
       "      <td>2.362084e+06</td>\n",
       "      <td>2.362084e+06</td>\n",
       "    </tr>\n",
       "    <tr>\n",
       "      <th>mean</th>\n",
       "      <td>2.442589e+03</td>\n",
       "      <td>3.699709e+01</td>\n",
       "      <td>-9.090114e+01</td>\n",
       "      <td>1.072985e+18</td>\n",
       "      <td>1.804065e+00</td>\n",
       "      <td>2018.0</td>\n",
       "      <td>5.512877e+00</td>\n",
       "      <td>1.551342e+01</td>\n",
       "      <td>2.953572e+00</td>\n",
       "      <td>2.206739e+01</td>\n",
       "    </tr>\n",
       "    <tr>\n",
       "      <th>std</th>\n",
       "      <td>9.369030e+03</td>\n",
       "      <td>5.427207e+00</td>\n",
       "      <td>2.029332e+01</td>\n",
       "      <td>2.506577e+18</td>\n",
       "      <td>6.371639e-01</td>\n",
       "      <td>0.0</td>\n",
       "      <td>3.485315e+00</td>\n",
       "      <td>8.750869e+00</td>\n",
       "      <td>1.979889e+00</td>\n",
       "      <td>1.517203e+01</td>\n",
       "    </tr>\n",
       "    <tr>\n",
       "      <th>min</th>\n",
       "      <td>1.000000e+00</td>\n",
       "      <td>-3.807455e+01</td>\n",
       "      <td>-1.597148e+02</td>\n",
       "      <td>1.003000e+03</td>\n",
       "      <td>1.000000e+00</td>\n",
       "      <td>2018.0</td>\n",
       "      <td>1.000000e+00</td>\n",
       "      <td>1.000000e+00</td>\n",
       "      <td>0.000000e+00</td>\n",
       "      <td>1.000000e+00</td>\n",
       "    </tr>\n",
       "    <tr>\n",
       "      <th>25%</th>\n",
       "      <td>2.580000e+02</td>\n",
       "      <td>3.386003e+01</td>\n",
       "      <td>-9.781291e+01</td>\n",
       "      <td>1.156000e+03</td>\n",
       "      <td>1.000000e+00</td>\n",
       "      <td>2018.0</td>\n",
       "      <td>3.000000e+00</td>\n",
       "      <td>8.000000e+00</td>\n",
       "      <td>1.000000e+00</td>\n",
       "      <td>9.000000e+00</td>\n",
       "    </tr>\n",
       "    <tr>\n",
       "      <th>50%</th>\n",
       "      <td>4.300000e+02</td>\n",
       "      <td>3.819935e+01</td>\n",
       "      <td>-8.637135e+01</td>\n",
       "      <td>2.748000e+03</td>\n",
       "      <td>2.000000e+00</td>\n",
       "      <td>2018.0</td>\n",
       "      <td>5.000000e+00</td>\n",
       "      <td>1.600000e+01</td>\n",
       "      <td>3.000000e+00</td>\n",
       "      <td>1.800000e+01</td>\n",
       "    </tr>\n",
       "    <tr>\n",
       "      <th>75%</th>\n",
       "      <td>1.082000e+03</td>\n",
       "      <td>4.035996e+01</td>\n",
       "      <td>-8.091618e+01</td>\n",
       "      <td>5.009000e+03</td>\n",
       "      <td>2.000000e+00</td>\n",
       "      <td>2018.0</td>\n",
       "      <td>9.000000e+00</td>\n",
       "      <td>2.300000e+01</td>\n",
       "      <td>5.000000e+00</td>\n",
       "      <td>3.500000e+01</td>\n",
       "    </tr>\n",
       "    <tr>\n",
       "      <th>max</th>\n",
       "      <td>6.847600e+04</td>\n",
       "      <td>6.507238e+01</td>\n",
       "      <td>1.512167e+02</td>\n",
       "      <td>9.153270e+18</td>\n",
       "      <td>3.000000e+00</td>\n",
       "      <td>2018.0</td>\n",
       "      <td>1.200000e+01</td>\n",
       "      <td>3.100000e+01</td>\n",
       "      <td>6.000000e+00</td>\n",
       "      <td>5.200000e+01</td>\n",
       "    </tr>\n",
       "  </tbody>\n",
       "</table>\n",
       "</div>"
      ],
      "text/plain": [
       "          device_id           lat           lon  publisher_id    partner_id  \\\n",
       "count  2.362084e+06  2.362084e+06  2.362084e+06  1.583722e+06  2.362084e+06   \n",
       "mean   2.442589e+03  3.699709e+01 -9.090114e+01  1.072985e+18  1.804065e+00   \n",
       "std    9.369030e+03  5.427207e+00  2.029332e+01  2.506577e+18  6.371639e-01   \n",
       "min    1.000000e+00 -3.807455e+01 -1.597148e+02  1.003000e+03  1.000000e+00   \n",
       "25%    2.580000e+02  3.386003e+01 -9.781291e+01  1.156000e+03  1.000000e+00   \n",
       "50%    4.300000e+02  3.819935e+01 -8.637135e+01  2.748000e+03  2.000000e+00   \n",
       "75%    1.082000e+03  4.035996e+01 -8.091618e+01  5.009000e+03  2.000000e+00   \n",
       "max    6.847600e+04  6.507238e+01  1.512167e+02  9.153270e+18  3.000000e+00   \n",
       "\n",
       "            year         month           day       weekday          week  \n",
       "count  2362084.0  2.362084e+06  2.362084e+06  2.362084e+06  2.362084e+06  \n",
       "mean      2018.0  5.512877e+00  1.551342e+01  2.953572e+00  2.206739e+01  \n",
       "std          0.0  3.485315e+00  8.750869e+00  1.979889e+00  1.517203e+01  \n",
       "min       2018.0  1.000000e+00  1.000000e+00  0.000000e+00  1.000000e+00  \n",
       "25%       2018.0  3.000000e+00  8.000000e+00  1.000000e+00  9.000000e+00  \n",
       "50%       2018.0  5.000000e+00  1.600000e+01  3.000000e+00  1.800000e+01  \n",
       "75%       2018.0  9.000000e+00  2.300000e+01  5.000000e+00  3.500000e+01  \n",
       "max       2018.0  1.200000e+01  3.100000e+01  6.000000e+00  5.200000e+01  "
      ]
     },
     "execution_count": 210,
     "metadata": {},
     "output_type": "execute_result"
    }
   ],
   "source": [
    "df_travel_rs.describe()"
   ]
  },
  {
   "cell_type": "code",
   "execution_count": 88,
   "metadata": {},
   "outputs": [
    {
     "name": "stdout",
     "output_type": "stream",
     "text": [
      "This part takes:0:00:46.192945\n"
     ]
    }
   ],
   "source": [
    "## Create datetime columns    \n",
    "now = dt.datetime.now()\n",
    "\n",
    "df_travel_rs['year'] = df_travel_rs['dt'].map(lambda x: x.year)\n",
    "df_travel_rs['month'] = df_travel_rs['dt'].map(lambda x: x.month)\n",
    "df_travel_rs['day'] = df_travel_rs['dt'].map(lambda x: x.day)\n",
    "df_travel_rs['weekday'] = df_travel_rs['dt'].map(lambda x: x.weekday())\n",
    "df_travel_rs['week'] = df_travel_rs['dt'].map(lambda x: x.week)\n",
    "df_travel_rs['date'] = df_travel_rs['dt'].map(lambda x: x.date())\n",
    "\n",
    "end = dt.datetime.now()\n",
    "print('This part takes:{}'.format(end-now))"
   ]
  },
  {
   "cell_type": "code",
   "execution_count": 124,
   "metadata": {},
   "outputs": [
    {
     "name": "stdout",
     "output_type": "stream",
     "text": [
      "This part takes:0:00:02.949591\n"
     ]
    }
   ],
   "source": [
    "## Stay Point DataFrame\n",
    "now = dt.datetime.now()\n",
    "\n",
    "## Select a time-interval for stay duration: stop_dur 1 = 5 min, means filter the point that only stop <=5 mins per day\n",
    "stop_dur = 1\n",
    "\n",
    "## User-Stay point DataFrame, keep it for future analysis\n",
    "df_travel_stop = df_travel_rs[['device_id','date','lat_lon_3','dt']] \\\n",
    "                                            .groupby(['device_id','date','lat_lon_3']).count().reset_index()\n",
    "df_travel_stop = df_travel_stop.drop(df_travel_stop[df_travel_stop['dt']<=stop_dur].index).reset_index() \\\n",
    "                                            .rename(columns={'lat_lon_3':'stop_point','dt':'stop_freq'})\n",
    "\n",
    "df_travel_stop['mon_fri'] = df_travel_stop['date'].map(lambda x: (x.weekday() < 5)*1)\n",
    "\n",
    "## User-Daily Stay point number DataFrame\n",
    "df_travel_stopnum = df_travel_stop[['device_id','date','mon_fri','stop_point']].groupby(['device_id','date']) \\\n",
    "                                                            .agg({'stop_point':'count','mon_fri':'first'})\\\n",
    "                                                            .rename(columns={'stop_point':'stop_point_num'}).reset_index()\n",
    "\n",
    "## User average weekday and weekend Stay point Dataframe\n",
    "df_travel_userstop = df_travel_stopnum[df_travel_stopnum['mon_fri']==1][['device_id','stop_point_num']] \\\n",
    "                                .groupby('device_id').mean().rename(columns={'stop_point_num':'weekday_stop'})\\\n",
    "                                    .join(df_travel_stopnum[df_travel_stopnum['mon_fri']==0][['device_id','stop_point_num']] \\\n",
    "                                        .groupby('device_id').mean().rename(columns={'stop_point_num':'weekend_stop'})).fillna(0)\n",
    "\n",
    "end = dt.datetime.now()\n",
    "print('This part takes:{}'.format(end-now))"
   ]
  },
  {
   "cell_type": "code",
   "execution_count": 125,
   "metadata": {},
   "outputs": [
    {
     "name": "stdout",
     "output_type": "stream",
     "text": [
      "This part takes:0:00:01.055082\n"
     ]
    }
   ],
   "source": [
    "## App use frequency: On use days and daily\n",
    "now = dt.datetime.now()\n",
    "\n",
    "## Average daily app use frquency\n",
    "user_freq = pd.DataFrame(df_travel_rs[['device_id','dt']].groupby('device_id')['dt'] \\\n",
    "                         .apply(lambda x: x.count() / ((x.max() - x.min()).days + 1))) \\\n",
    "                         .rename(columns = {'dt':'avg_daily_freq'})\n",
    "\n",
    "## Average app use frquency at a use day\n",
    "freq_day = df_travel_rs[['device_id','date','ts']].groupby(['device_id','date']).count().groupby('device_id').mean() \\\n",
    "                                                 .rename(columns={'ts':'avg_useday_freq'})\n",
    "user_freq = user_freq.join(freq_day)\n",
    "\n",
    "end = dt.datetime.now()\n",
    "print('This part takes:{}'.format(end-now))"
   ]
  },
  {
   "cell_type": "code",
   "execution_count": 94,
   "metadata": {},
   "outputs": [],
   "source": [
    "\"\"\"\n",
    "App use frequency autocorrelation parameter\n",
    "Not implemeted yet\n",
    "\"\"\"\n",
    "# ## App use autocorrelation parameter\n",
    "# now = dt.datetime.now()\n",
    "\n",
    "# df_travel_auto = df_travel_rs[['device_id','date','dt']].groupby(['device_id','date']).count() \\\n",
    "#                                                 .rename(columns={'dt':'use_freq'}).reset_index()\n",
    "# group = df_travel_auto.groupby('device_id')\n",
    "\n",
    "# user_autolag = pd.DataFrame(index=user_freq.index)\n",
    "# lag_list = []\n",
    "# for key, data in group:\n",
    "#     lag_list.append(autoregress(data))\n",
    "# user_autolag['auto_lag'] = np.array(lag_list)\n",
    "\n",
    "# end = dt.datetime.now()\n",
    "# print('This part takes:{}'.format(end-now))"
   ]
  },
  {
   "cell_type": "code",
   "execution_count": 126,
   "metadata": {},
   "outputs": [
    {
     "name": "stdout",
     "output_type": "stream",
     "text": [
      "This part takes:0:00:14.753622\n"
     ]
    }
   ],
   "source": [
    "## Travel Type\n",
    "now = dt.datetime.now()\n",
    "\n",
    "travel_agg = []\n",
    "for region in ['country','region','city']:\n",
    "    for period in ['year','month','week']:\n",
    "        travel_agg.append(traveler_type_agg(df_travel_rs,region,period))\n",
    "travel_type = pd.concat(travel_agg,axis=1)\n",
    "\n",
    "end = dt.datetime.now()\n",
    "print('This part takes:{}'.format(end-now))"
   ]
  },
  {
   "cell_type": "code",
   "execution_count": 128,
   "metadata": {},
   "outputs": [
    {
     "data": {
      "text/plain": [
       "(1089, 13)"
      ]
     },
     "execution_count": 128,
     "metadata": {},
     "output_type": "execute_result"
    }
   ],
   "source": [
    "## Union all features\n",
    "user_features_travel = pd.concat([user_freq,df_travel_userstop,travel_type],axis=1)\n",
    "# ,user_autolag\n",
    "user_features_travel.shape"
   ]
  },
  {
   "cell_type": "code",
   "execution_count": 165,
   "metadata": {},
   "outputs": [
    {
     "data": {
      "text/html": [
       "<div>\n",
       "<style scoped>\n",
       "    .dataframe tbody tr th:only-of-type {\n",
       "        vertical-align: middle;\n",
       "    }\n",
       "\n",
       "    .dataframe tbody tr th {\n",
       "        vertical-align: top;\n",
       "    }\n",
       "\n",
       "    .dataframe thead th {\n",
       "        text-align: right;\n",
       "    }\n",
       "</style>\n",
       "<table border=\"1\" class=\"dataframe\">\n",
       "  <thead>\n",
       "    <tr style=\"text-align: right;\">\n",
       "      <th></th>\n",
       "      <th>avg_daily_freq</th>\n",
       "      <th>avg_useday_freq</th>\n",
       "      <th>weekday_stop</th>\n",
       "      <th>weekend_stop</th>\n",
       "      <th>avg_country_year</th>\n",
       "      <th>avg_country_month</th>\n",
       "      <th>avg_country_week</th>\n",
       "      <th>avg_region_year</th>\n",
       "      <th>avg_region_month</th>\n",
       "      <th>avg_region_week</th>\n",
       "      <th>avg_city_year</th>\n",
       "      <th>avg_city_month</th>\n",
       "      <th>avg_city_week</th>\n",
       "    </tr>\n",
       "  </thead>\n",
       "  <tbody>\n",
       "    <tr>\n",
       "      <th>count</th>\n",
       "      <td>1089.000000</td>\n",
       "      <td>1089.000000</td>\n",
       "      <td>1089.000000</td>\n",
       "      <td>1089.000000</td>\n",
       "      <td>1089.000000</td>\n",
       "      <td>1089.000000</td>\n",
       "      <td>1089.000000</td>\n",
       "      <td>1089.000000</td>\n",
       "      <td>1089.000000</td>\n",
       "      <td>1089.000000</td>\n",
       "      <td>1089.000000</td>\n",
       "      <td>1089.000000</td>\n",
       "      <td>1089.000000</td>\n",
       "    </tr>\n",
       "    <tr>\n",
       "      <th>mean</th>\n",
       "      <td>8.838781</td>\n",
       "      <td>14.128378</td>\n",
       "      <td>1.721685</td>\n",
       "      <td>1.620797</td>\n",
       "      <td>1.146924</td>\n",
       "      <td>1.015388</td>\n",
       "      <td>1.004997</td>\n",
       "      <td>2.738292</td>\n",
       "      <td>1.365889</td>\n",
       "      <td>1.140949</td>\n",
       "      <td>20.329660</td>\n",
       "      <td>5.683900</td>\n",
       "      <td>2.929240</td>\n",
       "    </tr>\n",
       "    <tr>\n",
       "      <th>std</th>\n",
       "      <td>18.725428</td>\n",
       "      <td>23.651985</td>\n",
       "      <td>1.266565</td>\n",
       "      <td>1.183291</td>\n",
       "      <td>0.511353</td>\n",
       "      <td>0.081093</td>\n",
       "      <td>0.030238</td>\n",
       "      <td>2.467884</td>\n",
       "      <td>0.644666</td>\n",
       "      <td>0.274413</td>\n",
       "      <td>54.266098</td>\n",
       "      <td>13.525409</td>\n",
       "      <td>4.988921</td>\n",
       "    </tr>\n",
       "    <tr>\n",
       "      <th>min</th>\n",
       "      <td>0.020772</td>\n",
       "      <td>1.000000</td>\n",
       "      <td>0.000000</td>\n",
       "      <td>0.000000</td>\n",
       "      <td>1.000000</td>\n",
       "      <td>1.000000</td>\n",
       "      <td>1.000000</td>\n",
       "      <td>1.000000</td>\n",
       "      <td>1.000000</td>\n",
       "      <td>1.000000</td>\n",
       "      <td>1.000000</td>\n",
       "      <td>1.000000</td>\n",
       "      <td>1.000000</td>\n",
       "    </tr>\n",
       "    <tr>\n",
       "      <th>25%</th>\n",
       "      <td>0.511494</td>\n",
       "      <td>2.588957</td>\n",
       "      <td>1.000000</td>\n",
       "      <td>1.000000</td>\n",
       "      <td>1.000000</td>\n",
       "      <td>1.000000</td>\n",
       "      <td>1.000000</td>\n",
       "      <td>1.000000</td>\n",
       "      <td>1.000000</td>\n",
       "      <td>1.000000</td>\n",
       "      <td>3.000000</td>\n",
       "      <td>1.444444</td>\n",
       "      <td>1.166667</td>\n",
       "    </tr>\n",
       "    <tr>\n",
       "      <th>50%</th>\n",
       "      <td>1.421875</td>\n",
       "      <td>4.465753</td>\n",
       "      <td>1.179775</td>\n",
       "      <td>1.166667</td>\n",
       "      <td>1.000000</td>\n",
       "      <td>1.000000</td>\n",
       "      <td>1.000000</td>\n",
       "      <td>2.000000</td>\n",
       "      <td>1.142857</td>\n",
       "      <td>1.041667</td>\n",
       "      <td>7.000000</td>\n",
       "      <td>2.400000</td>\n",
       "      <td>1.538462</td>\n",
       "    </tr>\n",
       "    <tr>\n",
       "      <th>75%</th>\n",
       "      <td>7.692982</td>\n",
       "      <td>13.953125</td>\n",
       "      <td>1.772358</td>\n",
       "      <td>1.800000</td>\n",
       "      <td>1.000000</td>\n",
       "      <td>1.000000</td>\n",
       "      <td>1.000000</td>\n",
       "      <td>3.000000</td>\n",
       "      <td>1.500000</td>\n",
       "      <td>1.176471</td>\n",
       "      <td>17.000000</td>\n",
       "      <td>5.000000</td>\n",
       "      <td>2.688889</td>\n",
       "    </tr>\n",
       "    <tr>\n",
       "      <th>max</th>\n",
       "      <td>139.800000</td>\n",
       "      <td>183.716763</td>\n",
       "      <td>9.714286</td>\n",
       "      <td>9.239583</td>\n",
       "      <td>11.000000</td>\n",
       "      <td>2.000000</td>\n",
       "      <td>1.571429</td>\n",
       "      <td>28.000000</td>\n",
       "      <td>11.333333</td>\n",
       "      <td>4.942308</td>\n",
       "      <td>1253.000000</td>\n",
       "      <td>271.833333</td>\n",
       "      <td>97.583333</td>\n",
       "    </tr>\n",
       "  </tbody>\n",
       "</table>\n",
       "</div>"
      ],
      "text/plain": [
       "       avg_daily_freq  avg_useday_freq  weekday_stop  weekend_stop  \\\n",
       "count     1089.000000      1089.000000   1089.000000   1089.000000   \n",
       "mean         8.838781        14.128378      1.721685      1.620797   \n",
       "std         18.725428        23.651985      1.266565      1.183291   \n",
       "min          0.020772         1.000000      0.000000      0.000000   \n",
       "25%          0.511494         2.588957      1.000000      1.000000   \n",
       "50%          1.421875         4.465753      1.179775      1.166667   \n",
       "75%          7.692982        13.953125      1.772358      1.800000   \n",
       "max        139.800000       183.716763      9.714286      9.239583   \n",
       "\n",
       "       avg_country_year  avg_country_month  avg_country_week  avg_region_year  \\\n",
       "count       1089.000000        1089.000000       1089.000000      1089.000000   \n",
       "mean           1.146924           1.015388          1.004997         2.738292   \n",
       "std            0.511353           0.081093          0.030238         2.467884   \n",
       "min            1.000000           1.000000          1.000000         1.000000   \n",
       "25%            1.000000           1.000000          1.000000         1.000000   \n",
       "50%            1.000000           1.000000          1.000000         2.000000   \n",
       "75%            1.000000           1.000000          1.000000         3.000000   \n",
       "max           11.000000           2.000000          1.571429        28.000000   \n",
       "\n",
       "       avg_region_month  avg_region_week  avg_city_year  avg_city_month  \\\n",
       "count       1089.000000      1089.000000    1089.000000     1089.000000   \n",
       "mean           1.365889         1.140949      20.329660        5.683900   \n",
       "std            0.644666         0.274413      54.266098       13.525409   \n",
       "min            1.000000         1.000000       1.000000        1.000000   \n",
       "25%            1.000000         1.000000       3.000000        1.444444   \n",
       "50%            1.142857         1.041667       7.000000        2.400000   \n",
       "75%            1.500000         1.176471      17.000000        5.000000   \n",
       "max           11.333333         4.942308    1253.000000      271.833333   \n",
       "\n",
       "       avg_city_week  \n",
       "count    1089.000000  \n",
       "mean        2.929240  \n",
       "std         4.988921  \n",
       "min         1.000000  \n",
       "25%         1.166667  \n",
       "50%         1.538462  \n",
       "75%         2.688889  \n",
       "max        97.583333  "
      ]
     },
     "execution_count": 165,
     "metadata": {},
     "output_type": "execute_result"
    }
   ],
   "source": [
    "user_features_travel.describe()"
   ]
  },
  {
   "cell_type": "markdown",
   "metadata": {},
   "source": [
    "## Naive K-means clustering"
   ]
  },
  {
   "cell_type": "markdown",
   "metadata": {},
   "source": [
    "**A preliminary K-means clustering to reveal some user classes**"
   ]
  },
  {
   "cell_type": "code",
   "execution_count": 166,
   "metadata": {
    "collapsed": true
   },
   "outputs": [],
   "source": [
    "from sklearn.cluster import KMeans\n",
    "from sklearn.preprocessing import StandardScaler\n",
    "from sklearn.pipeline import Pipeline"
   ]
  },
  {
   "cell_type": "code",
   "execution_count": 169,
   "metadata": {},
   "outputs": [
    {
     "data": {
      "text/plain": [
       "StandardScaler(copy=True, with_mean=True, with_std=True)"
      ]
     },
     "execution_count": 169,
     "metadata": {},
     "output_type": "execute_result"
    }
   ],
   "source": [
    "scaler.fit(user_features_travel)"
   ]
  },
  {
   "cell_type": "code",
   "execution_count": 171,
   "metadata": {},
   "outputs": [
    {
     "data": {
      "image/png": "[encoded data removed]",
      "text/plain": [
       "<Figure size 432x288 with 1 Axes>"
      ]
     },
     "metadata": {
      "needs_background": "light"
     },
     "output_type": "display_data"
    }
   ],
   "source": [
    "## Pick k of Kmeans\n",
    "X = scaler.transform(user_features_travel)\n",
    "distortions = []\n",
    "for i in range(1, 15):\n",
    "    km = KMeans(\n",
    "        n_clusters=i, init='random',\n",
    "        n_init=10, max_iter=300,\n",
    "        tol=1e-04, random_state=0\n",
    "    )\n",
    "    km.fit(X)\n",
    "    distortions.append(km.inertia_)\n",
    "\n",
    "# plot\n",
    "plt.plot(range(1, 15), distortions, marker='o')\n",
    "plt.xlabel('Number of clusters')\n",
    "plt.ylabel('Distortion')\n",
    "plt.show()"
   ]
  },
  {
   "cell_type": "markdown",
   "metadata": {},
   "source": [
    "Pick k = 6 according to the graph\n"
   ]
  },
  {
   "cell_type": "code",
   "execution_count": 172,
   "metadata": {
    "collapsed": true
   },
   "outputs": [],
   "source": [
    "kmeans = KMeans(\n",
    "        n_clusters=6, init='random',\n",
    "        n_init=10, max_iter=300,\n",
    "        tol=1e-04, random_state=0\n",
    "    )"
   ]
  },
  {
   "cell_type": "code",
   "execution_count": 183,
   "metadata": {},
   "outputs": [],
   "source": [
    "## Kmeans pipeline to clustering users \n",
    "kmeans_pipe = Pipeline([\n",
    "    ('StandardizeScaler',scaler), \n",
    "    ('Kmeans',kmeans)\n",
    "])\n",
    "cluster_result = kmeans_pipe.fit(user_features_travel)"
   ]
  },
  {
   "cell_type": "code",
   "execution_count": 189,
   "metadata": {},
   "outputs": [
    {
     "data": {
      "text/plain": [
       "array([4, 4, 3, ..., 2, 2, 2], dtype=int32)"
      ]
     },
     "execution_count": 189,
     "metadata": {},
     "output_type": "execute_result"
    }
   ],
   "source": [
    "cluster_result.steps[1][1].labels_"
   ]
  },
  {
   "cell_type": "code",
   "execution_count": 190,
   "metadata": {
    "collapsed": true
   },
   "outputs": [],
   "source": [
    "user_features_travel['km_cluster'] = cluster_result.steps[1][1].labels_"
   ]
  },
  {
   "cell_type": "code",
   "execution_count": 194,
   "metadata": {
    "collapsed": true
   },
   "outputs": [],
   "source": [
    "import matplotlib.cm as cm\n",
    "r1 = np.arange(6)\n",
    "bar_data = user_features_travel.groupby('km_cluster').mean()"
   ]
  },
  {
   "cell_type": "code",
   "execution_count": 200,
   "metadata": {},
   "outputs": [
    {
     "data": {
      "image/png": "[encoded data removed]",
      "text/plain": [
       "<Figure size 1440x1080 with 12 Axes>"
      ]
     },
     "metadata": {
      "needs_background": "light"
     },
     "output_type": "display_data"
    }
   ],
   "source": [
    "fig = plt.figure(figsize=(20,15))\n",
    "\n",
    "fig.subplots_adjust(hspace=0.4, wspace=0.4)\n",
    "for i in range(1, 13):\n",
    "    ax = fig.add_subplot(4, 4, i)\n",
    "    ax.bar(r1, bar_data.iloc[:,i-1], width=0.8, edgecolor='white', color=cm.rainbow(np.linspace(0, 1, 6)))\n",
    "    ax.title.set_text(bar_data.columns.values[i-1])\n"
   ]
  },
  {
   "cell_type": "markdown",
   "metadata": {},
   "source": [
    "### Clustering Result\n"
   ]
  },
  {
   "cell_type": "markdown",
   "metadata": {},
   "source": [
    "**Findings:**\n",
    "1. More users' stay points are detected for high frequency app users. - Group 1 vs 5\n",
    "2. High frequency app usage + citywide or local travelers = more stay oints could be detected - Group 1\n",
    "3. International travelers get fewer mobile apps usage, They tends to be busy workers.  - Group 0\n",
    "4. US statewide travelers tends to have more weekday stay points than local traveler -Group 0 vs Group 1\n",
    "5. More variation in the data for US statewide travelers. - Graph 7 "
   ]
  },
  {
   "attachments": {},
   "cell_type": "markdown",
   "metadata": {},
   "source": [
    "**Summary:** \n",
    "\n",
    "- **Good User**: \n",
    "    The ideal user for us are the users who use the mobile frequently. \n",
    "    More stay points could be detected from them, so it's easier to model their travel patterns. \n",
    "    Their user value is comparably higher to us. (Group 1 and 5)\n",
    "    \n",
    "- **Bad User**:\n",
    "    In contrast, low app use frequency users have less value to us, they don’t have much exposure to the Mobile Ads. Also their data are sparse.\n",
    "- **Fairly Good Users**\n",
    "    For international travelers, their app use frequency is not high, but they have a fair amount of stay point detected. Due to the countrywide travel frequency, they might have high value to our clients for marketing. (Group 0)\n",
    "    "
   ]
  },
  {
   "cell_type": "markdown",
   "metadata": {},
   "source": [
    "## Future Work Direction"
   ]
  },
  {
   "cell_type": "markdown",
   "metadata": {},
   "source": [
    "**1. Construction trip chain for each user based on time-ordered stay points**\n",
    "- 3D Clustering (lat, long, time) "
   ]
  },
  {
   "cell_type": "markdown",
   "metadata": {
    "collapsed": true
   },
   "source": [
    "**2. User Trip Activity Exploration**\n",
    "- get the geospatial info and land use for user stay points\n",
    "\n",
    "\n",
    "- Build User Profile according to the trip chain and location features\n",
    "-- eg. Users #31"
   ]
  },
  {
   "cell_type": "code",
   "execution_count": 158,
   "metadata": {
    "collapsed": true
   },
   "outputs": [],
   "source": [
    "# df_sp_stop[df_sp_stop['dt']>33]\n",
    "\n",
    "userid = 31\n",
    "df_sp_stayagg_mf = df_sp_stop[df_sp_stop['mon_fri']==1].groupby(['device_id','stop_point'])\\\n",
    "                                                       .agg({'date':'count','stop_freq':'sum'}).reset_index()\n",
    "df_stayagg_mf_user = df_sp_stayagg_mf[df_sp_stayagg_mf['device_id']==userid].nlargest(5,'stop_freq')\n",
    "\n",
    "df_sp_stayagg_wk = df_sp_stop[df_sp_stop['mon_fri']==0].groupby(['device_id','stop_point'])\\\n",
    "                                                       .agg({'date':'count','stop_freq':'sum'}).reset_index()  \n",
    "df_stayagg_wk_user= df_sp_stayagg_wk[df_sp_stayagg_wk['device_id']==userid].nlargest(5,'stop_freq')\n"
   ]
  },
  {
   "cell_type": "code",
   "execution_count": 161,
   "metadata": {
    "scrolled": true
   },
   "outputs": [
    {
     "data": {
      "text/html": [
       "<div style=\"width:100%;\"><div style=\"position:relative;width:100%;height:0;padding-bottom:60%;\"><iframe src=\"data:text/html;charset=utf-8;base64,PCFET0NUWVBFIGh0bWw+CjxoZWFkPiAgICAKICAgIDxtZXRhIGh0dHAtZXF1aXY9ImNvbnRlbnQtdHlwZSIgY29udGVudD0idGV4dC9odG1sOyBjaGFyc2V0PVVURi04IiAvPgogICAgCiAgICAgICAgPHNjcmlwdD4KICAgICAgICAgICAgTF9OT19UT1VDSCA9IGZhbHNlOwogICAgICAgICAgICBMX0RJU0FCTEVfM0QgPSBmYWxzZTsKICAgICAgICA8L3NjcmlwdD4KICAgIAogICAgPHNjcmlwdCBzcmM9Imh0dHBzOi8vY2RuLmpzZGVsaXZyLm5ldC9ucG0vbGVhZmxldEAxLjUuMS9kaXN0L2xlYWZsZXQuanMiPjwvc2NyaXB0PgogICAgPHNjcmlwdCBzcmM9Imh0dHBzOi8vY29kZS5qcXVlcnkuY29tL2pxdWVyeS0xLjEyLjQubWluLmpzIj48L3NjcmlwdD4KICAgIDxzY3JpcHQgc3JjPSJodHRwczovL21heGNkbi5ib290c3RyYXBjZG4uY29tL2Jvb3RzdHJhcC8zLjIuMC9qcy9ib290c3RyYXAubWluLmpzIj48L3NjcmlwdD4KICAgIDxzY3JpcHQgc3JjPSJodHRwczovL2NkbmpzLmNsb3VkZmxhcmUuY29tL2FqYXgvbGlicy9MZWFmbGV0LmF3ZXNvbWUtbWFya2Vycy8yLjAuMi9sZWFmbGV0LmF3ZXNvbWUtbWFya2Vycy5qcyI+PC9zY3JpcHQ+CiAgICA8bGluayByZWw9InN0eWxlc2hlZXQiIGhyZWY9Imh0dHBzOi8vY2RuLmpzZGVsaXZyLm5ldC9ucG0vbGVhZmxldEAxLjUuMS9kaXN0L2xlYWZsZXQuY3NzIi8+CiAgICA8bGluayByZWw9InN0eWxlc2hlZXQiIGhyZWY9Imh0dHBzOi8vbWF4Y2RuLmJvb3RzdHJhcGNkbi5jb20vYm9vdHN0cmFwLzMuMi4wL2Nzcy9ib290c3RyYXAubWluLmNzcyIvPgogICAgPGxpbmsgcmVsPSJzdHlsZXNoZWV0IiBocmVmPSJodHRwczovL21heGNkbi5ib290c3RyYXBjZG4uY29tL2Jvb3RzdHJhcC8zLjIuMC9jc3MvYm9vdHN0cmFwLXRoZW1lLm1pbi5jc3MiLz4KICAgIDxsaW5rIHJlbD0ic3R5bGVzaGVldCIgaHJlZj0iaHR0cHM6Ly9tYXhjZG4uYm9vdHN0cmFwY2RuLmNvbS9mb250LWF3ZXNvbWUvNC42LjMvY3NzL2ZvbnQtYXdlc29tZS5taW4uY3NzIi8+CiAgICA8bGluayByZWw9InN0eWxlc2hlZXQiIGhyZWY9Imh0dHBzOi8vY2RuanMuY2xvdWRmbGFyZS5jb20vYWpheC9saWJzL0xlYWZsZXQuYXdlc29tZS1tYXJrZXJzLzIuMC4yL2xlYWZsZXQuYXdlc29tZS1tYXJrZXJzLmNzcyIvPgogICAgPGxpbmsgcmVsPSJzdHlsZXNoZWV0IiBocmVmPSJodHRwczovL3Jhd2Nkbi5naXRoYWNrLmNvbS9weXRob24tdmlzdWFsaXphdGlvbi9mb2xpdW0vbWFzdGVyL2ZvbGl1bS90ZW1wbGF0ZXMvbGVhZmxldC5hd2Vzb21lLnJvdGF0ZS5jc3MiLz4KICAgIDxzdHlsZT5odG1sLCBib2R5IHt3aWR0aDogMTAwJTtoZWlnaHQ6IDEwMCU7bWFyZ2luOiAwO3BhZGRpbmc6IDA7fTwvc3R5bGU+CiAgICA8c3R5bGU+I21hcCB7cG9zaXRpb246YWJzb2x1dGU7dG9wOjA7Ym90dG9tOjA7cmlnaHQ6MDtsZWZ0OjA7fTwvc3R5bGU+CiAgICAKICAgICAgICAgICAgPG1ldGEgbmFtZT0idmlld3BvcnQiIGNvbnRlbnQ9IndpZHRoPWRldmljZS13aWR0aCwKICAgICAgICAgICAgICAgIGluaXRpYWwtc2NhbGU9MS4wLCBtYXhpbXVtLXNjYWxlPTEuMCwgdXNlci1zY2FsYWJsZT1ubyIgLz4KICAgICAgICAgICAgPHN0eWxlPgogICAgICAgICAgICAgICAgI21hcF9lOGFjNWNkYzg1YzE0YTc2OTQ0ZGI3ZjMzY2RlZGUxYSB7CiAgICAgICAgICAgICAgICAgICAgcG9zaXRpb246IHJlbGF0aXZlOwogICAgICAgICAgICAgICAgICAgIHdpZHRoOiAxMDAuMCU7CiAgICAgICAgICAgICAgICAgICAgaGVpZ2h0OiAxMDAuMCU7CiAgICAgICAgICAgICAgICAgICAgbGVmdDogMC4wJTsKICAgICAgICAgICAgICAgICAgICB0b3A6IDAuMCU7CiAgICAgICAgICAgICAgICB9CiAgICAgICAgICAgIDwvc3R5bGU+CiAgICAgICAgCjwvaGVhZD4KPGJvZHk+ICAgIAogICAgCiAgICAgICAgICAgIDxkaXYgY2xhc3M9ImZvbGl1bS1tYXAiIGlkPSJtYXBfZThhYzVjZGM4NWMxNGE3Njk0NGRiN2YzM2NkZWRlMWEiID48L2Rpdj4KICAgICAgICAKPC9ib2R5Pgo8c2NyaXB0PiAgICAKICAgIAogICAgICAgICAgICB2YXIgbWFwX2U4YWM1Y2RjODVjMTRhNzY5NDRkYjdmMzNjZGVkZTFhID0gTC5tYXAoCiAgICAgICAgICAgICAgICAibWFwX2U4YWM1Y2RjODVjMTRhNzY5NDRkYjdmMzNjZGVkZTFhIiwKICAgICAgICAgICAgICAgIHsKICAgICAgICAgICAgICAgICAgICBjZW50ZXI6IFs0MC4zNDIsIC03OS45NDZdLAogICAgICAgICAgICAgICAgICAgIGNyczogTC5DUlMuRVBTRzM4NTcsCiAgICAgICAgICAgICAgICAgICAgem9vbTogMTQsCiAgICAgICAgICAgICAgICAgICAgem9vbUNvbnRyb2w6IHRydWUsCiAgICAgICAgICAgICAgICAgICAgcHJlZmVyQ2FudmFzOiBmYWxzZSwKICAgICAgICAgICAgICAgIH0KICAgICAgICAgICAgKTsKCiAgICAgICAgICAgIAoKICAgICAgICAKICAgIAogICAgICAgICAgICB2YXIgdGlsZV9sYXllcl9iOWJiMDFlMDVlYWI0ZTc1YTIxYmJjYmJmMzM5MzYzNyA9IEwudGlsZUxheWVyKAogICAgICAgICAgICAgICAgImh0dHBzOi8vY2FydG9kYi1iYXNlbWFwcy17c30uZ2xvYmFsLnNzbC5mYXN0bHkubmV0L2RhcmtfYWxsL3t6fS97eH0ve3l9LnBuZyIsCiAgICAgICAgICAgICAgICB7ImF0dHJpYnV0aW9uIjogIlx1MDAyNmNvcHk7IFx1MDAzY2EgaHJlZj1cImh0dHA6Ly93d3cub3BlbnN0cmVldG1hcC5vcmcvY29weXJpZ2h0XCJcdTAwM2VPcGVuU3RyZWV0TWFwXHUwMDNjL2FcdTAwM2UgY29udHJpYnV0b3JzIFx1MDAyNmNvcHk7IFx1MDAzY2EgaHJlZj1cImh0dHA6Ly9jYXJ0b2RiLmNvbS9hdHRyaWJ1dGlvbnNcIlx1MDAzZUNhcnRvREJcdTAwM2MvYVx1MDAzZSwgQ2FydG9EQiBcdTAwM2NhIGhyZWYgPVwiaHR0cDovL2NhcnRvZGIuY29tL2F0dHJpYnV0aW9uc1wiXHUwMDNlYXR0cmlidXRpb25zXHUwMDNjL2FcdTAwM2UiLCAiZGV0ZWN0UmV0aW5hIjogZmFsc2UsICJtYXhOYXRpdmVab29tIjogMTgsICJtYXhab29tIjogMTgsICJtaW5ab29tIjogMCwgIm5vV3JhcCI6IGZhbHNlLCAib3BhY2l0eSI6IDEsICJzdWJkb21haW5zIjogImFiYyIsICJ0bXMiOiBmYWxzZX0KICAgICAgICAgICAgKS5hZGRUbyhtYXBfZThhYzVjZGM4NWMxNGE3Njk0NGRiN2YzM2NkZWRlMWEpOwogICAgICAgIAogICAgCiAgICAgICAgICAgIHZhciBjaXJjbGVfZjBiNWE5OTFiNjU5NDIwMjlmYTFiMjA0MmU3MWEwMDYgPSBMLmNpcmNsZSgKICAgICAgICAgICAgICAgIFs0MC4zNjYsIC03OS45NjRdLAogICAgICAgICAgICAgICAgeyJidWJibGluZ01vdXNlRXZlbnRzIjogdHJ1ZSwgImNvbG9yIjogIm9yYW5nZXJlZCIsICJkYXNoQXJyYXkiOiBudWxsLCAiZGFzaE9mZnNldCI6IG51bGwsICJmaWxsIjogdHJ1ZSwgImZpbGxDb2xvciI6ICJvcmFuZ2UiLCAiZmlsbE9wYWNpdHkiOiAwLjIsICJmaWxsUnVsZSI6ICJldmVub2RkIiwgImxpbmVDYXAiOiAicm91bmQiLCAibGluZUpvaW4iOiAicm91bmQiLCAib3BhY2l0eSI6IDEuMCwgInJhZGl1cyI6IDExMSwgInN0cm9rZSI6IHRydWUsICJ3ZWlnaHQiOiAzfQogICAgICAgICAgICApLmFkZFRvKG1hcF9lOGFjNWNkYzg1YzE0YTc2OTQ0ZGI3ZjMzY2RlZGUxYSk7CiAgICAgICAgCiAgICAKICAgICAgICB2YXIgcG9wdXBfMjc2NGVhMGEwM2Y5NDUzYzgyOTBjZmM4MWY2MGU4ZGMgPSBMLnBvcHVwKHsibWF4V2lkdGgiOiAiMTAwJSJ9KTsKCiAgICAgICAgCiAgICAgICAgICAgIHZhciBodG1sXzdiMzM1MTFiMGExZTRjM2U4OTEyMDJiOTE5ZDNlOTc5ID0gJChgPGRpdiBpZD0iaHRtbF83YjMzNTExYjBhMWU0YzNlODkxMjAyYjkxOWQzZTk3OSIgc3R5bGU9IndpZHRoOiAxMDAuMCU7IGhlaWdodDogMTAwLjAlOyI+V2Vla2RheSBTdGF5IEZyZXEuOjMxNDc8L2Rpdj5gKVswXTsKICAgICAgICAgICAgcG9wdXBfMjc2NGVhMGEwM2Y5NDUzYzgyOTBjZmM4MWY2MGU4ZGMuc2V0Q29udGVudChodG1sXzdiMzM1MTFiMGExZTRjM2U4OTEyMDJiOTE5ZDNlOTc5KTsKICAgICAgICAKCiAgICAgICAgY2lyY2xlX2YwYjVhOTkxYjY1OTQyMDI5ZmExYjIwNDJlNzFhMDA2LmJpbmRQb3B1cChwb3B1cF8yNzY0ZWEwYTAzZjk0NTNjODI5MGNmYzgxZjYwZThkYykKICAgICAgICA7CgogICAgICAgIAogICAgCiAgICAKICAgICAgICAgICAgdmFyIGNpcmNsZV8yMmE2NzE4MzJhN2Y0ODRiYWZmYTdmY2ZhNmZiMTlhOSA9IEwuY2lyY2xlKAogICAgICAgICAgICAgICAgWzQwLjM0MiwgLTc5Ljk0Nl0sCiAgICAgICAgICAgICAgICB7ImJ1YmJsaW5nTW91c2VFdmVudHMiOiB0cnVlLCAiY29sb3IiOiAib3JhbmdlcmVkIiwgImRhc2hBcnJheSI6IG51bGwsICJkYXNoT2Zmc2V0IjogbnVsbCwgImZpbGwiOiB0cnVlLCAiZmlsbENvbG9yIjogIm9yYW5nZSIsICJmaWxsT3BhY2l0eSI6IDAuMiwgImZpbGxSdWxlIjogImV2ZW5vZGQiLCAibGluZUNhcCI6ICJyb3VuZCIsICJsaW5lSm9pbiI6ICJyb3VuZCIsICJvcGFjaXR5IjogMS4wLCAicmFkaXVzIjogMTExLCAic3Ryb2tlIjogdHJ1ZSwgIndlaWdodCI6IDN9CiAgICAgICAgICAgICkuYWRkVG8obWFwX2U4YWM1Y2RjODVjMTRhNzY5NDRkYjdmMzNjZGVkZTFhKTsKICAgICAgICAKICAgIAogICAgICAgIHZhciBwb3B1cF9hODQ2NWE2YWQ3MGQ0MzU1ODQ3NTU0NjE2ZjU0OTJkMyA9IEwucG9wdXAoeyJtYXhXaWR0aCI6ICIxMDAlIn0pOwoKICAgICAgICAKICAgICAgICAgICAgdmFyIGh0bWxfNDE3NzQxODNiNWE0NDBhYTkxMGIzZTk5ZjlkMTFiYTMgPSAkKGA8ZGl2IGlkPSJodG1sXzQxNzc0MTgzYjVhNDQwYWE5MTBiM2U5OWY5ZDExYmEzIiBzdHlsZT0id2lkdGg6IDEwMC4wJTsgaGVpZ2h0OiAxMDAuMCU7Ij5XZWVrZGF5IFN0YXkgRnJlcS46MTk2NjwvZGl2PmApWzBdOwogICAgICAgICAgICBwb3B1cF9hODQ2NWE2YWQ3MGQ0MzU1ODQ3NTU0NjE2ZjU0OTJkMy5zZXRDb250ZW50KGh0bWxfNDE3NzQxODNiNWE0NDBhYTkxMGIzZTk5ZjlkMTFiYTMpOwogICAgICAgIAoKICAgICAgICBjaXJjbGVfMjJhNjcxODMyYTdmNDg0YmFmZmE3ZmNmYTZmYjE5YTkuYmluZFBvcHVwKHBvcHVwX2E4NDY1YTZhZDcwZDQzNTU4NDc1NTQ2MTZmNTQ5MmQzKQogICAgICAgIDsKCiAgICAgICAgCiAgICAKICAgIAogICAgICAgICAgICB2YXIgY2lyY2xlXzA0OTA0NTk3M2U2MTRiZTliNThhNjk4ZjQyMmEzMzQwID0gTC5jaXJjbGUoCiAgICAgICAgICAgICAgICBbNDAuMzY3LCAtNzkuOTY0XSwKICAgICAgICAgICAgICAgIHsiYnViYmxpbmdNb3VzZUV2ZW50cyI6IHRydWUsICJjb2xvciI6ICJvcmFuZ2VyZWQiLCAiZGFzaEFycmF5IjogbnVsbCwgImRhc2hPZmZzZXQiOiBudWxsLCAiZmlsbCI6IHRydWUsICJmaWxsQ29sb3IiOiAib3JhbmdlIiwgImZpbGxPcGFjaXR5IjogMC4yLCAiZmlsbFJ1bGUiOiAiZXZlbm9kZCIsICJsaW5lQ2FwIjogInJvdW5kIiwgImxpbmVKb2luIjogInJvdW5kIiwgIm9wYWNpdHkiOiAxLjAsICJyYWRpdXMiOiAxMTEsICJzdHJva2UiOiB0cnVlLCAid2VpZ2h0IjogM30KICAgICAgICAgICAgKS5hZGRUbyhtYXBfZThhYzVjZGM4NWMxNGE3Njk0NGRiN2YzM2NkZWRlMWEpOwogICAgICAgIAogICAgCiAgICAgICAgdmFyIHBvcHVwXzgxOWNjNDY1M2NhMDRjOTNiZjBjMTJjYjc3NzM0N2JhID0gTC5wb3B1cCh7Im1heFdpZHRoIjogIjEwMCUifSk7CgogICAgICAgIAogICAgICAgICAgICB2YXIgaHRtbF8wNzFlNmRmMmMzNDA0NzQyYmM1ZTJiOGExZTNmNDU5ZCA9ICQoYDxkaXYgaWQ9Imh0bWxfMDcxZTZkZjJjMzQwNDc0MmJjNWUyYjhhMWUzZjQ1OWQiIHN0eWxlPSJ3aWR0aDogMTAwLjAlOyBoZWlnaHQ6IDEwMC4wJTsiPldlZWtkYXkgU3RheSBGcmVxLjoxNTk3PC9kaXY+YClbMF07CiAgICAgICAgICAgIHBvcHVwXzgxOWNjNDY1M2NhMDRjOTNiZjBjMTJjYjc3NzM0N2JhLnNldENvbnRlbnQoaHRtbF8wNzFlNmRmMmMzNDA0NzQyYmM1ZTJiOGExZTNmNDU5ZCk7CiAgICAgICAgCgogICAgICAgIGNpcmNsZV8wNDkwNDU5NzNlNjE0YmU5YjU4YTY5OGY0MjJhMzM0MC5iaW5kUG9wdXAocG9wdXBfODE5Y2M0NjUzY2EwNGM5M2JmMGMxMmNiNzc3MzQ3YmEpCiAgICAgICAgOwoKICAgICAgICAKICAgIAogICAgCiAgICAgICAgICAgIHZhciBjaXJjbGVfZTFmMTMzOGM2OWYwNDJjYjlhNzU5OTFiMWRhM2Q2YzggPSBMLmNpcmNsZSgKICAgICAgICAgICAgICAgIFs0MC4zNjMsIC03OS45Nl0sCiAgICAgICAgICAgICAgICB7ImJ1YmJsaW5nTW91c2VFdmVudHMiOiB0cnVlLCAiY29sb3IiOiAib3JhbmdlcmVkIiwgImRhc2hBcnJheSI6IG51bGwsICJkYXNoT2Zmc2V0IjogbnVsbCwgImZpbGwiOiB0cnVlLCAiZmlsbENvbG9yIjogIm9yYW5nZSIsICJmaWxsT3BhY2l0eSI6IDAuMiwgImZpbGxSdWxlIjogImV2ZW5vZGQiLCAibGluZUNhcCI6ICJyb3VuZCIsICJsaW5lSm9pbiI6ICJyb3VuZCIsICJvcGFjaXR5IjogMS4wLCAicmFkaXVzIjogMTExLCAic3Ryb2tlIjogdHJ1ZSwgIndlaWdodCI6IDN9CiAgICAgICAgICAgICkuYWRkVG8obWFwX2U4YWM1Y2RjODVjMTRhNzY5NDRkYjdmMzNjZGVkZTFhKTsKICAgICAgICAKICAgIAogICAgICAgIHZhciBwb3B1cF9lOTI0OGIzNDI1NmQ0NDc0OWM3OWI5YTAwNmY4ZjhkMSA9IEwucG9wdXAoeyJtYXhXaWR0aCI6ICIxMDAlIn0pOwoKICAgICAgICAKICAgICAgICAgICAgdmFyIGh0bWxfMDFlNjZkYjFmZjY0NGE2YTliNjhiYzAzNTMwYTAzMzYgPSAkKGA8ZGl2IGlkPSJodG1sXzAxZTY2ZGIxZmY2NDRhNmE5YjY4YmMwMzUzMGEwMzM2IiBzdHlsZT0id2lkdGg6IDEwMC4wJTsgaGVpZ2h0OiAxMDAuMCU7Ij5XZWVrZGF5IFN0YXkgRnJlcS46NTM2PC9kaXY+YClbMF07CiAgICAgICAgICAgIHBvcHVwX2U5MjQ4YjM0MjU2ZDQ0NzQ5Yzc5YjlhMDA2ZjhmOGQxLnNldENvbnRlbnQoaHRtbF8wMWU2NmRiMWZmNjQ0YTZhOWI2OGJjMDM1MzBhMDMzNik7CiAgICAgICAgCgogICAgICAgIGNpcmNsZV9lMWYxMzM4YzY5ZjA0MmNiOWE3NTk5MWIxZGEzZDZjOC5iaW5kUG9wdXAocG9wdXBfZTkyNDhiMzQyNTZkNDQ3NDljNzliOWEwMDZmOGY4ZDEpCiAgICAgICAgOwoKICAgICAgICAKICAgIAogICAgCiAgICAgICAgICAgIHZhciBjaXJjbGVfMGE2M2Y2Nzk3OWMzNDNlNDhhODJlOWFjNDk3ZTQzMzQgPSBMLmNpcmNsZSgKICAgICAgICAgICAgICAgIFs0MC4zNDIsIC03OS45NV0sCiAgICAgICAgICAgICAgICB7ImJ1YmJsaW5nTW91c2VFdmVudHMiOiB0cnVlLCAiY29sb3IiOiAib3JhbmdlcmVkIiwgImRhc2hBcnJheSI6IG51bGwsICJkYXNoT2Zmc2V0IjogbnVsbCwgImZpbGwiOiB0cnVlLCAiZmlsbENvbG9yIjogIm9yYW5nZSIsICJmaWxsT3BhY2l0eSI6IDAuMiwgImZpbGxSdWxlIjogImV2ZW5vZGQiLCAibGluZUNhcCI6ICJyb3VuZCIsICJsaW5lSm9pbiI6ICJyb3VuZCIsICJvcGFjaXR5IjogMS4wLCAicmFkaXVzIjogMTExLCAic3Ryb2tlIjogdHJ1ZSwgIndlaWdodCI6IDN9CiAgICAgICAgICAgICkuYWRkVG8obWFwX2U4YWM1Y2RjODVjMTRhNzY5NDRkYjdmMzNjZGVkZTFhKTsKICAgICAgICAKICAgIAogICAgICAgIHZhciBwb3B1cF82Y2U0YmExZWNlMTk0YzdkYWU1YmIxODdmNDI2ZmU0NiA9IEwucG9wdXAoeyJtYXhXaWR0aCI6ICIxMDAlIn0pOwoKICAgICAgICAKICAgICAgICAgICAgdmFyIGh0bWxfMjcxN2E0ZmQ2YWMwNDJlY2JjMzllZTllODBiODFkNTAgPSAkKGA8ZGl2IGlkPSJodG1sXzI3MTdhNGZkNmFjMDQyZWNiYzM5ZWU5ZTgwYjgxZDUwIiBzdHlsZT0id2lkdGg6IDEwMC4wJTsgaGVpZ2h0OiAxMDAuMCU7Ij5XZWVrZGF5IFN0YXkgRnJlcS46NDYwPC9kaXY+YClbMF07CiAgICAgICAgICAgIHBvcHVwXzZjZTRiYTFlY2UxOTRjN2RhZTViYjE4N2Y0MjZmZTQ2LnNldENvbnRlbnQoaHRtbF8yNzE3YTRmZDZhYzA0MmVjYmMzOWVlOWU4MGI4MWQ1MCk7CiAgICAgICAgCgogICAgICAgIGNpcmNsZV8wYTYzZjY3OTc5YzM0M2U0OGE4MmU5YWM0OTdlNDMzNC5iaW5kUG9wdXAocG9wdXBfNmNlNGJhMWVjZTE5NGM3ZGFlNWJiMTg3ZjQyNmZlNDYpCiAgICAgICAgOwoKICAgICAgICAKICAgIAogICAgCiAgICAgICAgICAgIHZhciBjaXJjbGVfNTkzOWQzODQyZmVjNDEzN2EwMjg1NmUxY2I2MzM3MmYgPSBMLmNpcmNsZSgKICAgICAgICAgICAgICAgIFs0MC4zNjYsIC03OS45NjRdLAogICAgICAgICAgICAgICAgeyJidWJibGluZ01vdXNlRXZlbnRzIjogdHJ1ZSwgImNvbG9yIjogImdyZWVuIiwgImRhc2hBcnJheSI6IG51bGwsICJkYXNoT2Zmc2V0IjogbnVsbCwgImZpbGwiOiBudWxsLCAiZmlsbENvbG9yIjogImdyZWVuIiwgImZpbGxPcGFjaXR5IjogMC4yLCAiZmlsbFJ1bGUiOiAiZXZlbm9kZCIsICJsaW5lQ2FwIjogInJvdW5kIiwgImxpbmVKb2luIjogInJvdW5kIiwgIm9wYWNpdHkiOiAxLjAsICJyYWRpdXMiOiAxMTEsICJzdHJva2UiOiB0cnVlLCAid2VpZ2h0IjogM30KICAgICAgICAgICAgKS5hZGRUbyhtYXBfZThhYzVjZGM4NWMxNGE3Njk0NGRiN2YzM2NkZWRlMWEpOwogICAgICAgIAogICAgCiAgICAgICAgdmFyIHBvcHVwX2RiYTg3OGVkMzhhNDQ1YTliMjFlNjE5Y2RiYWI3MTI3ID0gTC5wb3B1cCh7Im1heFdpZHRoIjogIjEwMCUifSk7CgogICAgICAgIAogICAgICAgICAgICB2YXIgaHRtbF9iYmEyZTA1MTRmM2I0ZmFmYmM0YTU3MjQzZDk5YzgwMCA9ICQoYDxkaXYgaWQ9Imh0bWxfYmJhMmUwNTE0ZjNiNGZhZmJjNGE1NzI0M2Q5OWM4MDAiIHN0eWxlPSJ3aWR0aDogMTAwLjAlOyBoZWlnaHQ6IDEwMC4wJTsiPldlZWtlbmQgU3RheSBGcmVxLjoxMTA0PC9kaXY+YClbMF07CiAgICAgICAgICAgIHBvcHVwX2RiYTg3OGVkMzhhNDQ1YTliMjFlNjE5Y2RiYWI3MTI3LnNldENvbnRlbnQoaHRtbF9iYmEyZTA1MTRmM2I0ZmFmYmM0YTU3MjQzZDk5YzgwMCk7CiAgICAgICAgCgogICAgICAgIGNpcmNsZV81OTM5ZDM4NDJmZWM0MTM3YTAyODU2ZTFjYjYzMzcyZi5iaW5kUG9wdXAocG9wdXBfZGJhODc4ZWQzOGE0NDVhOWIyMWU2MTljZGJhYjcxMjcpCiAgICAgICAgOwoKICAgICAgICAKICAgIAogICAgCiAgICAgICAgICAgIHZhciBjaXJjbGVfOGUxNjE0MjYwM2NlNDcyNzhmMWQ4M2VlYzUzMzExNjEgPSBMLmNpcmNsZSgKICAgICAgICAgICAgICAgIFs0MC4zNDIsIC03OS45NDZdLAogICAgICAgICAgICAgICAgeyJidWJibGluZ01vdXNlRXZlbnRzIjogdHJ1ZSwgImNvbG9yIjogImdyZWVuIiwgImRhc2hBcnJheSI6IG51bGwsICJkYXNoT2Zmc2V0IjogbnVsbCwgImZpbGwiOiBudWxsLCAiZmlsbENvbG9yIjogImdyZWVuIiwgImZpbGxPcGFjaXR5IjogMC4yLCAiZmlsbFJ1bGUiOiAiZXZlbm9kZCIsICJsaW5lQ2FwIjogInJvdW5kIiwgImxpbmVKb2luIjogInJvdW5kIiwgIm9wYWNpdHkiOiAxLjAsICJyYWRpdXMiOiAxMTEsICJzdHJva2UiOiB0cnVlLCAid2VpZ2h0IjogM30KICAgICAgICAgICAgKS5hZGRUbyhtYXBfZThhYzVjZGM4NWMxNGE3Njk0NGRiN2YzM2NkZWRlMWEpOwogICAgICAgIAogICAgCiAgICAgICAgdmFyIHBvcHVwX2ZmMjlmM2FiMjBmNzRiZWY4N2I5ZjA5ZDI5ODY2M2VmID0gTC5wb3B1cCh7Im1heFdpZHRoIjogIjEwMCUifSk7CgogICAgICAgIAogICAgICAgICAgICB2YXIgaHRtbF81Y2E0MzkyZmMyMzA0OWEyYjA2OThkNjExNGRiNzU3MyA9ICQoYDxkaXYgaWQ9Imh0bWxfNWNhNDM5MmZjMjMwNDlhMmIwNjk4ZDYxMTRkYjc1NzMiIHN0eWxlPSJ3aWR0aDogMTAwLjAlOyBoZWlnaHQ6IDEwMC4wJTsiPldlZWtlbmQgU3RheSBGcmVxLjo4OTk8L2Rpdj5gKVswXTsKICAgICAgICAgICAgcG9wdXBfZmYyOWYzYWIyMGY3NGJlZjg3YjlmMDlkMjk4NjYzZWYuc2V0Q29udGVudChodG1sXzVjYTQzOTJmYzIzMDQ5YTJiMDY5OGQ2MTE0ZGI3NTczKTsKICAgICAgICAKCiAgICAgICAgY2lyY2xlXzhlMTYxNDI2MDNjZTQ3Mjc4ZjFkODNlZWM1MzMxMTYxLmJpbmRQb3B1cChwb3B1cF9mZjI5ZjNhYjIwZjc0YmVmODdiOWYwOWQyOTg2NjNlZikKICAgICAgICA7CgogICAgICAgIAogICAgCiAgICAKICAgICAgICAgICAgdmFyIGNpcmNsZV9jZGUyZjMxZGYxY2Q0NDc2OTM4MWM4ZjQ0NDRiZDUzYSA9IEwuY2lyY2xlKAogICAgICAgICAgICAgICAgWzQwLjM2NywgLTc5Ljk2NF0sCiAgICAgICAgICAgICAgICB7ImJ1YmJsaW5nTW91c2VFdmVudHMiOiB0cnVlLCAiY29sb3IiOiAiZ3JlZW4iLCAiZGFzaEFycmF5IjogbnVsbCwgImRhc2hPZmZzZXQiOiBudWxsLCAiZmlsbCI6IG51bGwsICJmaWxsQ29sb3IiOiAiZ3JlZW4iLCAiZmlsbE9wYWNpdHkiOiAwLjIsICJmaWxsUnVsZSI6ICJldmVub2RkIiwgImxpbmVDYXAiOiAicm91bmQiLCAibGluZUpvaW4iOiAicm91bmQiLCAib3BhY2l0eSI6IDEuMCwgInJhZGl1cyI6IDExMSwgInN0cm9rZSI6IHRydWUsICJ3ZWlnaHQiOiAzfQogICAgICAgICAgICApLmFkZFRvKG1hcF9lOGFjNWNkYzg1YzE0YTc2OTQ0ZGI3ZjMzY2RlZGUxYSk7CiAgICAgICAgCiAgICAKICAgICAgICB2YXIgcG9wdXBfMTYxOTJlYWRkZmVlNDY3YWEwMjIyOWEyNmZkMDc2OWMgPSBMLnBvcHVwKHsibWF4V2lkdGgiOiAiMTAwJSJ9KTsKCiAgICAgICAgCiAgICAgICAgICAgIHZhciBodG1sX2JhY2IzNDY1Y2M0YTQ2MTg4MTlmMWZmN2JkOTlkNzY1ID0gJChgPGRpdiBpZD0iaHRtbF9iYWNiMzQ2NWNjNGE0NjE4ODE5ZjFmZjdiZDk5ZDc2NSIgc3R5bGU9IndpZHRoOiAxMDAuMCU7IGhlaWdodDogMTAwLjAlOyI+V2Vla2VuZCBTdGF5IEZyZXEuOjY1MzwvZGl2PmApWzBdOwogICAgICAgICAgICBwb3B1cF8xNjE5MmVhZGRmZWU0NjdhYTAyMjI5YTI2ZmQwNzY5Yy5zZXRDb250ZW50KGh0bWxfYmFjYjM0NjVjYzRhNDYxODgxOWYxZmY3YmQ5OWQ3NjUpOwogICAgICAgIAoKICAgICAgICBjaXJjbGVfY2RlMmYzMWRmMWNkNDQ3NjkzODFjOGY0NDQ0YmQ1M2EuYmluZFBvcHVwKHBvcHVwXzE2MTkyZWFkZGZlZTQ2N2FhMDIyMjlhMjZmZDA3NjljKQogICAgICAgIDsKCiAgICAgICAgCiAgICAKICAgIAogICAgICAgICAgICB2YXIgY2lyY2xlXzMwNmUwNjBjMDk2NzRiNzY4M2U4MmY0YWIwMzZmNmJlID0gTC5jaXJjbGUoCiAgICAgICAgICAgICAgICBbNDAuNDI0LCAtODAuMDM5XSwKICAgICAgICAgICAgICAgIHsiYnViYmxpbmdNb3VzZUV2ZW50cyI6IHRydWUsICJjb2xvciI6ICJncmVlbiIsICJkYXNoQXJyYXkiOiBudWxsLCAiZGFzaE9mZnNldCI6IG51bGwsICJmaWxsIjogbnVsbCwgImZpbGxDb2xvciI6ICJncmVlbiIsICJmaWxsT3BhY2l0eSI6IDAuMiwgImZpbGxSdWxlIjogImV2ZW5vZGQiLCAibGluZUNhcCI6ICJyb3VuZCIsICJsaW5lSm9pbiI6ICJyb3VuZCIsICJvcGFjaXR5IjogMS4wLCAicmFkaXVzIjogMTExLCAic3Ryb2tlIjogdHJ1ZSwgIndlaWdodCI6IDN9CiAgICAgICAgICAgICkuYWRkVG8obWFwX2U4YWM1Y2RjODVjMTRhNzY5NDRkYjdmMzNjZGVkZTFhKTsKICAgICAgICAKICAgIAogICAgICAgIHZhciBwb3B1cF8xMGEwZGQ5NTRhNmY0Njk0OTNhMWM1YjRmZmJhMjAzOSA9IEwucG9wdXAoeyJtYXhXaWR0aCI6ICIxMDAlIn0pOwoKICAgICAgICAKICAgICAgICAgICAgdmFyIGh0bWxfZDJkMGE0NWM1YjA5NDg5ZTgxZGNmYWQyYjJlYjVlYjUgPSAkKGA8ZGl2IGlkPSJodG1sX2QyZDBhNDVjNWIwOTQ4OWU4MWRjZmFkMmIyZWI1ZWI1IiBzdHlsZT0id2lkdGg6IDEwMC4wJTsgaGVpZ2h0OiAxMDAuMCU7Ij5XZWVrZW5kIFN0YXkgRnJlcS46MjQ5PC9kaXY+YClbMF07CiAgICAgICAgICAgIHBvcHVwXzEwYTBkZDk1NGE2ZjQ2OTQ5M2ExYzViNGZmYmEyMDM5LnNldENvbnRlbnQoaHRtbF9kMmQwYTQ1YzViMDk0ODllODFkY2ZhZDJiMmViNWViNSk7CiAgICAgICAgCgogICAgICAgIGNpcmNsZV8zMDZlMDYwYzA5Njc0Yjc2ODNlODJmNGFiMDM2ZjZiZS5iaW5kUG9wdXAocG9wdXBfMTBhMGRkOTU0YTZmNDY5NDkzYTFjNWI0ZmZiYTIwMzkpCiAgICAgICAgOwoKICAgICAgICAKICAgIAogICAgCiAgICAgICAgICAgIHZhciBjaXJjbGVfNDNkMjA2ZmJmMDE0NDNlZjhlMjU3ZWJlYmFjMjNkZGQgPSBMLmNpcmNsZSgKICAgICAgICAgICAgICAgIFs0MC4zNDIsIC03OS45NV0sCiAgICAgICAgICAgICAgICB7ImJ1YmJsaW5nTW91c2VFdmVudHMiOiB0cnVlLCAiY29sb3IiOiAiZ3JlZW4iLCAiZGFzaEFycmF5IjogbnVsbCwgImRhc2hPZmZzZXQiOiBudWxsLCAiZmlsbCI6IG51bGwsICJmaWxsQ29sb3IiOiAiZ3JlZW4iLCAiZmlsbE9wYWNpdHkiOiAwLjIsICJmaWxsUnVsZSI6ICJldmVub2RkIiwgImxpbmVDYXAiOiAicm91bmQiLCAibGluZUpvaW4iOiAicm91bmQiLCAib3BhY2l0eSI6IDEuMCwgInJhZGl1cyI6IDExMSwgInN0cm9rZSI6IHRydWUsICJ3ZWlnaHQiOiAzfQogICAgICAgICAgICApLmFkZFRvKG1hcF9lOGFjNWNkYzg1YzE0YTc2OTQ0ZGI3ZjMzY2RlZGUxYSk7CiAgICAgICAgCiAgICAKICAgICAgICB2YXIgcG9wdXBfN2VkYmEzYTc0NTU4NDEyYzhiYTRiYTVkOWZlNWUwYmQgPSBMLnBvcHVwKHsibWF4V2lkdGgiOiAiMTAwJSJ9KTsKCiAgICAgICAgCiAgICAgICAgICAgIHZhciBodG1sXzZhMGM3NTQ2ZWQ3YTQ0YTNiNWY1MTI2YjhkN2M2M2Q0ID0gJChgPGRpdiBpZD0iaHRtbF82YTBjNzU0NmVkN2E0NGEzYjVmNTEyNmI4ZDdjNjNkNCIgc3R5bGU9IndpZHRoOiAxMDAuMCU7IGhlaWdodDogMTAwLjAlOyI+V2Vla2VuZCBTdGF5IEZyZXEuOjE0MTwvZGl2PmApWzBdOwogICAgICAgICAgICBwb3B1cF83ZWRiYTNhNzQ1NTg0MTJjOGJhNGJhNWQ5ZmU1ZTBiZC5zZXRDb250ZW50KGh0bWxfNmEwYzc1NDZlZDdhNDRhM2I1ZjUxMjZiOGQ3YzYzZDQpOwogICAgICAgIAoKICAgICAgICBjaXJjbGVfNDNkMjA2ZmJmMDE0NDNlZjhlMjU3ZWJlYmFjMjNkZGQuYmluZFBvcHVwKHBvcHVwXzdlZGJhM2E3NDU1ODQxMmM4YmE0YmE1ZDlmZTVlMGJkKQogICAgICAgIDsKCiAgICAgICAgCiAgICAKPC9zY3JpcHQ+\" style=\"position:absolute;width:100%;height:100%;left:0;top:0;border:none !important;\" allowfullscreen webkitallowfullscreen mozallowfullscreen></iframe></div></div>"
      ],
      "text/plain": [
       "<folium.folium.Map at 0x2b25e7032da0>"
      ]
     },
     "execution_count": 161,
     "metadata": {},
     "output_type": "execute_result"
    }
   ],
   "source": [
    "m = folium.Map(location=[df_stayagg_mf_user['stop_point'].iloc[1][0], \n",
    "                         df_stayagg_mf_user['stop_point'].iloc[1][1]], tiles=\"CartoDB dark_matter\", zoom_start=14)\n",
    "\n",
    "for i in range(0,len(df_stayagg_mf_user)):\n",
    "    folium.Circle(\n",
    "      location=[df_stayagg_mf_user['stop_point'].iloc[i][0],df_stayagg_mf_user['stop_point'].iloc[i][1]],\n",
    "      popup='Weekday Stay Freq.:{}'.format(df_stayagg_mf_user['stop_freq'].iloc[i]),\n",
    "      radius= 111, ## stay points range 111 m\n",
    "      color='orangered',\n",
    "      fill=True,\n",
    "      fill_color='orange'\n",
    "    ).add_to(m)\n",
    "    \n",
    "for i in range(0,len(df_stayagg_wk_user)):\n",
    "    folium.Circle(\n",
    "      location=[df_stayagg_wk_user['stop_point'].iloc[i][0],df_stayagg_wk_user['stop_point'].iloc[i][1]],\n",
    "      popup='Weekend Stay Freq.:{}'.format(df_stayagg_wk_user['stop_freq'].iloc[i]),\n",
    "      radius= 111, ## stay points range 111 m\n",
    "      color='green',\n",
    "      fill=None,\n",
    "      fill_color=None\n",
    "    ).add_to(m)\n",
    "m\n",
    "\n",
    "# m.save('user31.html')"
   ]
  },
  {
   "cell_type": "markdown",
   "metadata": {},
   "source": [
    "## Thanks for reading!\n",
    "** Lingyu Li**\n",
    "** 9/23/2019**"
   ]
  }
 ],
 "metadata": {
  "kernelspec": {
   "display_name": "lly",
   "language": "python",
   "name": "llyenv"
  },
  "language_info": {
   "codemirror_mode": {
    "name": "ipython",
    "version": 3
   },
   "file_extension": ".py",
   "mimetype": "text/x-python",
   "name": "python",
   "nbconvert_exporter": "python",
   "pygments_lexer": "ipython3",
   "version": "3.7.3"
  }
 },
 "nbformat": 4,
 "nbformat_minor": 2
}
