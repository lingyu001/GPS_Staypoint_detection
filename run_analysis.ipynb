{
 "cells": [
  {
   "cell_type": "markdown",
   "metadata": {},
   "source": [
    "# Solution pipeline"
   ]
  },
  {
   "cell_type": "markdown",
   "metadata": {},
   "source": [
    "## Import modules"
   ]
  },
  {
   "cell_type": "code",
   "execution_count": 4,
   "metadata": {
    "collapsed": true
   },
   "outputs": [],
   "source": [
    "import pandas as pd\n",
    "import solution.ardata_cleaning as ac\n",
    "import solution.feature_create as fc"
   ]
  },
  {
   "cell_type": "markdown",
   "metadata": {},
   "source": [
    "## Get Data"
   ]
  },
  {
   "cell_type": "code",
   "execution_count": 5,
   "metadata": {},
   "outputs": [
    {
     "name": "stderr",
     "output_type": "stream",
     "text": [
      "/storage/home/lul165/.conda/envs/llyenv/lib/python3.7/site-packages/IPython/core/interactiveshell.py:3248: DtypeWarning: Columns (10) have mixed types. Specify dtype option on import or set low_memory=False.\n",
      "  if (await self.run_code(code, result,  async_=asy)):\n"
     ]
    },
    {
     "name": "stdout",
     "output_type": "stream",
     "text": [
      "<class 'pandas.core.frame.DataFrame'>\n",
      "RangeIndex: 16125354 entries, 0 to 16125353\n",
      "Data columns (total 13 columns):\n",
      "device_id       int64\n",
      "ts              object\n",
      "ts_date         object\n",
      "ts_quarter      object\n",
      "lat             float64\n",
      "lon             float64\n",
      "geohash5        object\n",
      "country         object\n",
      "region          object\n",
      "city            object\n",
      "zip_code        object\n",
      "publisher_id    float64\n",
      "partner_id      int64\n",
      "dtypes: float64(3), int64(2), object(8)\n",
      "memory usage: 1.6+ GB\n"
     ]
    }
   ],
   "source": [
    "df = ac.get_ar_data(url=\"https://s3.amazonaws.com/arrivalist-puzzles/interview_data.csv.zip\")\n",
    "df.info()"
   ]
  },
  {
   "cell_type": "markdown",
   "metadata": {},
   "source": [
    "## Resampling and cleaning data"
   ]
  },
  {
   "cell_type": "code",
   "execution_count": 6,
   "metadata": {
    "collapsed": true
   },
   "outputs": [],
   "source": [
    "df_rs = ac.ardata_pipe(df,'5T')\n",
    "df_rs = df_rs[(df_rs['travelSpeed'] < 1000) & (df_rs['travelSpeed'] > 0)]"
   ]
  },
  {
   "cell_type": "markdown",
   "metadata": {},
   "source": [
    "## Create traveler features and prepare training data"
   ]
  },
  {
   "cell_type": "code",
   "execution_count": 7,
   "metadata": {
    "collapsed": true
   },
   "outputs": [],
   "source": [
    "X_train = fc.create_userFeature(df_rs)"
   ]
  },
  {
   "cell_type": "code",
   "execution_count": 20,
   "metadata": {
    "collapsed": true
   },
   "outputs": [],
   "source": [
    "X_train  = X_train.fillna(0)"
   ]
  },
  {
   "cell_type": "code",
   "execution_count": 21,
   "metadata": {
    "scrolled": true
   },
   "outputs": [
    {
     "data": {
      "text/html": [
       "<div>\n",
       "<style scoped>\n",
       "    .dataframe tbody tr th:only-of-type {\n",
       "        vertical-align: middle;\n",
       "    }\n",
       "\n",
       "    .dataframe tbody tr th {\n",
       "        vertical-align: top;\n",
       "    }\n",
       "\n",
       "    .dataframe thead th {\n",
       "        text-align: right;\n",
       "    }\n",
       "</style>\n",
       "<table border=\"1\" class=\"dataframe\">\n",
       "  <thead>\n",
       "    <tr style=\"text-align: right;\">\n",
       "      <th></th>\n",
       "      <th>avgDailyFreq</th>\n",
       "      <th>avgUsedayFreq</th>\n",
       "      <th>weekdayStay</th>\n",
       "      <th>weekendStay</th>\n",
       "      <th>avgcountryyear</th>\n",
       "      <th>avgcountrymonth</th>\n",
       "      <th>avgcountryweek</th>\n",
       "      <th>avgregionyear</th>\n",
       "      <th>avgregionmonth</th>\n",
       "      <th>avgregionweek</th>\n",
       "      <th>avgcityyear</th>\n",
       "      <th>avgcitymonth</th>\n",
       "      <th>avgcityweek</th>\n",
       "      <th>km_cluster</th>\n",
       "    </tr>\n",
       "  </thead>\n",
       "  <tbody>\n",
       "    <tr>\n",
       "      <th>count</th>\n",
       "      <td>1077.000000</td>\n",
       "      <td>1077.000000</td>\n",
       "      <td>1077.000000</td>\n",
       "      <td>1077.000000</td>\n",
       "      <td>1077.000000</td>\n",
       "      <td>1077.000000</td>\n",
       "      <td>1077.00000</td>\n",
       "      <td>1077.000000</td>\n",
       "      <td>1077.000000</td>\n",
       "      <td>1077.000000</td>\n",
       "      <td>1077.000000</td>\n",
       "      <td>1077.000000</td>\n",
       "      <td>1077.000000</td>\n",
       "      <td>1077.000000</td>\n",
       "    </tr>\n",
       "    <tr>\n",
       "      <th>mean</th>\n",
       "      <td>3.556139</td>\n",
       "      <td>6.012987</td>\n",
       "      <td>1.255925</td>\n",
       "      <td>1.019096</td>\n",
       "      <td>1.168059</td>\n",
       "      <td>1.016895</td>\n",
       "      <td>1.00510</td>\n",
       "      <td>2.738162</td>\n",
       "      <td>1.379613</td>\n",
       "      <td>1.152671</td>\n",
       "      <td>20.466110</td>\n",
       "      <td>5.843987</td>\n",
       "      <td>3.027338</td>\n",
       "      <td>1.699164</td>\n",
       "    </tr>\n",
       "    <tr>\n",
       "      <th>std</th>\n",
       "      <td>7.536704</td>\n",
       "      <td>9.304684</td>\n",
       "      <td>1.212434</td>\n",
       "      <td>1.273241</td>\n",
       "      <td>0.528536</td>\n",
       "      <td>0.084374</td>\n",
       "      <td>0.03373</td>\n",
       "      <td>2.470676</td>\n",
       "      <td>0.651431</td>\n",
       "      <td>0.287594</td>\n",
       "      <td>54.545009</td>\n",
       "      <td>13.613142</td>\n",
       "      <td>5.041884</td>\n",
       "      <td>1.770926</td>\n",
       "    </tr>\n",
       "    <tr>\n",
       "      <th>min</th>\n",
       "      <td>0.009302</td>\n",
       "      <td>1.000000</td>\n",
       "      <td>0.000000</td>\n",
       "      <td>0.000000</td>\n",
       "      <td>1.000000</td>\n",
       "      <td>1.000000</td>\n",
       "      <td>1.00000</td>\n",
       "      <td>1.000000</td>\n",
       "      <td>1.000000</td>\n",
       "      <td>1.000000</td>\n",
       "      <td>1.000000</td>\n",
       "      <td>1.000000</td>\n",
       "      <td>1.000000</td>\n",
       "      <td>0.000000</td>\n",
       "    </tr>\n",
       "    <tr>\n",
       "      <th>25%</th>\n",
       "      <td>0.146939</td>\n",
       "      <td>1.291667</td>\n",
       "      <td>0.000000</td>\n",
       "      <td>0.000000</td>\n",
       "      <td>1.000000</td>\n",
       "      <td>1.000000</td>\n",
       "      <td>1.00000</td>\n",
       "      <td>1.000000</td>\n",
       "      <td>1.000000</td>\n",
       "      <td>1.000000</td>\n",
       "      <td>3.000000</td>\n",
       "      <td>1.500000</td>\n",
       "      <td>1.214286</td>\n",
       "      <td>0.000000</td>\n",
       "    </tr>\n",
       "    <tr>\n",
       "      <th>50%</th>\n",
       "      <td>0.434783</td>\n",
       "      <td>1.807692</td>\n",
       "      <td>1.166667</td>\n",
       "      <td>0.000000</td>\n",
       "      <td>1.000000</td>\n",
       "      <td>1.000000</td>\n",
       "      <td>1.00000</td>\n",
       "      <td>2.000000</td>\n",
       "      <td>1.166667</td>\n",
       "      <td>1.035714</td>\n",
       "      <td>7.000000</td>\n",
       "      <td>2.500000</td>\n",
       "      <td>1.615385</td>\n",
       "      <td>2.000000</td>\n",
       "    </tr>\n",
       "    <tr>\n",
       "      <th>75%</th>\n",
       "      <td>2.955665</td>\n",
       "      <td>6.490000</td>\n",
       "      <td>2.000000</td>\n",
       "      <td>1.875000</td>\n",
       "      <td>1.000000</td>\n",
       "      <td>1.000000</td>\n",
       "      <td>1.00000</td>\n",
       "      <td>3.000000</td>\n",
       "      <td>1.500000</td>\n",
       "      <td>1.200000</td>\n",
       "      <td>17.000000</td>\n",
       "      <td>5.166667</td>\n",
       "      <td>2.727273</td>\n",
       "      <td>3.000000</td>\n",
       "    </tr>\n",
       "    <tr>\n",
       "      <th>max</th>\n",
       "      <td>81.354331</td>\n",
       "      <td>91.030837</td>\n",
       "      <td>7.771186</td>\n",
       "      <td>8.555556</td>\n",
       "      <td>11.000000</td>\n",
       "      <td>2.000000</td>\n",
       "      <td>1.75000</td>\n",
       "      <td>28.000000</td>\n",
       "      <td>11.333333</td>\n",
       "      <td>4.923077</td>\n",
       "      <td>1253.000000</td>\n",
       "      <td>271.833333</td>\n",
       "      <td>97.541667</td>\n",
       "      <td>5.000000</td>\n",
       "    </tr>\n",
       "  </tbody>\n",
       "</table>\n",
       "</div>"
      ],
      "text/plain": [
       "       avgDailyFreq  avgUsedayFreq  weekdayStay  weekendStay  avgcountryyear  \\\n",
       "count   1077.000000    1077.000000  1077.000000  1077.000000     1077.000000   \n",
       "mean       3.556139       6.012987     1.255925     1.019096        1.168059   \n",
       "std        7.536704       9.304684     1.212434     1.273241        0.528536   \n",
       "min        0.009302       1.000000     0.000000     0.000000        1.000000   \n",
       "25%        0.146939       1.291667     0.000000     0.000000        1.000000   \n",
       "50%        0.434783       1.807692     1.166667     0.000000        1.000000   \n",
       "75%        2.955665       6.490000     2.000000     1.875000        1.000000   \n",
       "max       81.354331      91.030837     7.771186     8.555556       11.000000   \n",
       "\n",
       "       avgcountrymonth  avgcountryweek  avgregionyear  avgregionmonth  \\\n",
       "count      1077.000000      1077.00000    1077.000000     1077.000000   \n",
       "mean          1.016895         1.00510       2.738162        1.379613   \n",
       "std           0.084374         0.03373       2.470676        0.651431   \n",
       "min           1.000000         1.00000       1.000000        1.000000   \n",
       "25%           1.000000         1.00000       1.000000        1.000000   \n",
       "50%           1.000000         1.00000       2.000000        1.166667   \n",
       "75%           1.000000         1.00000       3.000000        1.500000   \n",
       "max           2.000000         1.75000      28.000000       11.333333   \n",
       "\n",
       "       avgregionweek  avgcityyear  avgcitymonth  avgcityweek   km_cluster  \n",
       "count    1077.000000  1077.000000   1077.000000  1077.000000  1077.000000  \n",
       "mean        1.152671    20.466110      5.843987     3.027338     1.699164  \n",
       "std         0.287594    54.545009     13.613142     5.041884     1.770926  \n",
       "min         1.000000     1.000000      1.000000     1.000000     0.000000  \n",
       "25%         1.000000     3.000000      1.500000     1.214286     0.000000  \n",
       "50%         1.035714     7.000000      2.500000     1.615385     2.000000  \n",
       "75%         1.200000    17.000000      5.166667     2.727273     3.000000  \n",
       "max         4.923077  1253.000000    271.833333    97.541667     5.000000  "
      ]
     },
     "execution_count": 21,
     "metadata": {},
     "output_type": "execute_result"
    }
   ],
   "source": [
    "X_train.describe()"
   ]
  },
  {
   "cell_type": "markdown",
   "metadata": {
    "collapsed": true
   },
   "source": [
    "# kmeans clustering"
   ]
  },
  {
   "cell_type": "code",
   "execution_count": 9,
   "metadata": {
    "collapsed": true
   },
   "outputs": [],
   "source": [
    "from solution.train_kmeans import fit_kmeans"
   ]
  },
  {
   "cell_type": "code",
   "execution_count": 17,
   "metadata": {},
   "outputs": [],
   "source": [
    "X_train = fit_kmeans(X_train,k=6)"
   ]
  },
  {
   "cell_type": "code",
   "execution_count": 18,
   "metadata": {},
   "outputs": [
    {
     "data": {
      "text/plain": [
       "<matplotlib.axes._subplots.AxesSubplot at 0x2ac4c31d78d0>"
      ]
     },
     "execution_count": 18,
     "metadata": {},
     "output_type": "execute_result"
    },
    {
     "data": {
      "image/png": "[encoded data removed]",
      "text/plain": [
       "<Figure size 432x288 with 1 Axes>"
      ]
     },
     "metadata": {
      "needs_background": "light"
     },
     "output_type": "display_data"
    }
   ],
   "source": [
    "X_train.km_cluster.plot.hist()"
   ]
  }
 ],
 "metadata": {
  "kernelspec": {
   "display_name": "lly",
   "language": "python",
   "name": "llyenv"
  },
  "language_info": {
   "codemirror_mode": {
    "name": "ipython",
    "version": 3
   },
   "file_extension": ".py",
   "mimetype": "text/x-python",
   "name": "python",
   "nbconvert_exporter": "python",
   "pygments_lexer": "ipython3",
   "version": "3.7.3"
  }
 },
 "nbformat": 4,
 "nbformat_minor": 2
}
